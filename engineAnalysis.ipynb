{
 "cells": [
  {
   "cell_type": "markdown",
   "id": "731444ea-62f2-451b-8c9f-fb49225a4467",
   "metadata": {},
   "source": [
    "# Analysis of Real World Chess Games with a Chess Engine"
   ]
  },
  {
   "cell_type": "code",
   "execution_count": null,
   "id": "8eacc58c-0ec9-4618-9123-777de7000004",
   "metadata": {},
   "outputs": [],
   "source": [
    "import io\n",
    "import os\n",
    "import time\n",
    "import csv\n",
    "import chess\n",
    "import chess.pgn\n",
    "import pandas as pd\n",
    "from pathlib import Path"
   ]
  },
  {
   "cell_type": "code",
   "execution_count": null,
   "id": "5c921f5b-7027-4a37-84e4-926eac11f435",
   "metadata": {},
   "outputs": [],
   "source": [
    "stockfish_Path = Path(r\"C:\\Users\\cianw\\Chess Engines\\Latest\\stockfish-windows-x86-64-avx2\\stockfish\\stockfish-windows-x86-64-avx2.exe\")\n",
    "lc0_Path = Path(r\"C:\\Users\\cianw\\Chess Engines\\Latest\\lc0-v0.30.0-windows-gpu-nvidia-cuda\\lc0.exe\")\n",
    " \n",
    "outputName = \"allRatings\"\n",
    "pgnFolder = r\"E:\\ChessData\"\n",
    "csvFolder = r\"E:\\ChessData\\explorationOutputs\"\n",
    "pgnName = \"allRatings\"\n",
    "pgnIn = Path(rf\"{csvFolder}\\{pgnName}.tsv\")\n",
    "pgnOut = Path(rf\"{csvFolder}\\{pgnName}_output_20230918.tsv\")\n",
    "pgnOut_iter = Path(rf\"{csvFolder}\\{pgnName}_output_20230918_iter.tsv\")"
   ]
  },
  {
   "cell_type": "code",
   "execution_count": null,
   "id": "c973b63f-a68c-4be1-a4b6-1f15ba863caf",
   "metadata": {},
   "outputs": [],
   "source": [
    "lichessData = pd.read_csv(pgnIn, sep = \"\\t\")\n",
    "lichessData['UTC_dateTime'] = pd.to_datetime(lichessData['UTCDate'] + ' ' + lichessData['UTCTime'])\n",
    "lichessData.describe()\n",
    "\n",
    "openingVariable = 'Opening'"
   ]
  },
  {
   "cell_type": "code",
   "execution_count": null,
   "id": "c69c65bc-1b44-4ca8-ac1b-df830f6667e8",
   "metadata": {},
   "outputs": [],
   "source": [
    "stockfish_engine = chess.engine.SimpleEngine.popen_uci(stockfish_Path)\n",
    "stockfish_options = {'Clear Hash':True, 'Threads': 4}\n",
    "stockfish_engine.configure(stockfish_options)"
   ]
  },
  {
   "cell_type": "code",
   "execution_count": null,
   "id": "e2e59f60-8550-4062-bcc5-fc1b88617b92",
   "metadata": {},
   "outputs": [],
   "source": [
    "def evaluateGame(games, loadedEngine, engineOptions):\n",
    "    global linesProcessed, dataFrameSize, printThreshold, start_time\n",
    "    \n",
    "    gameMoves = chess.pgn.read_game(io.StringIO(games['Moves']))\n",
    "    gameMoves.headers\n",
    "\n",
    "    board = gameMoves.board()\n",
    "    evalList1 = []\n",
    "    depthList1 = []\n",
    "    seldepthList1 = []\n",
    "    loadedEngine.configure(engineOptions)\n",
    "    moveCount=0\n",
    "    for move in gameMoves.mainline_moves():\n",
    "        board.push(move)\n",
    "        moveCount+=1\n",
    "        if moveCount<games['halfMoveCount'] :\n",
    "            pass\n",
    "        elif ((moveCount-games['halfMoveCount'])/10)==5:\n",
    "            break\n",
    "        elif ((moveCount-games['halfMoveCount']))%10==0 and (moveCount-games['halfMoveCount'])>=0:\n",
    "            info1 = loadedEngine.analyse(board, limit=chess.engine.Limit(time=1), info=chess.engine.INFO_ALL)\n",
    "            score1 = info1['score'].white().score()\n",
    "            evalList1.append(score1)\n",
    "            depthList1.append(info1['depth'])\n",
    "            if info1.get(\"seldepth\", 0):\n",
    "                seldepthList1.append(info1.get(\"seldepth\", 0))\n",
    "            else:\n",
    "                seldepthList1.append(None)\n",
    "    linesProcessed += 1\n",
    "    if linesProcessed%1000 == 0:\n",
    "        print(linesProcessed)\n",
    "        print((time.time() - start_time))\n",
    "    return evalList1, depthList1, seldepthList1"
   ]
  },
  {
   "cell_type": "code",
   "execution_count": null,
   "id": "803a856f-a061-46a3-bfc7-6b918f0557b6",
   "metadata": {},
   "outputs": [],
   "source": [
    "def process_data(chunk):\n",
    "    chunk_out = pd.DataFrame()\n",
    "    chunk_out[['SF_eval','SF_depth','SF_seldepth']] = chunk.apply(  evaluateGame,\n",
    "                                                                    loadedEngine=stockfish_engine,\n",
    "                                                                    engineOptions = stockfish_options,\n",
    "                                                                    axis=1, \n",
    "                                                                    result_type='expand')\n",
    "    return pd.concat([chunk, chunk_out], axis=1)"
   ]
  },
  {
   "cell_type": "code",
   "execution_count": null,
   "id": "ca4908fb-60c8-400c-81cd-ccbc5c271966",
   "metadata": {},
   "outputs": [],
   "source": [
    "def csvCommit(outFile, dictToWrite, csvHeaders):\n",
    "    file_exists = os.path.isfile(outFile)\n",
    "    with open(outFile, mode='a', newline='') as file:\n",
    "        writer = csv.DictWriter(file, fieldnames=csvHeaders)\n",
    "        if not file_exists:\n",
    "            writer.writeheader()  # file doesn't exist yet, write a header\n",
    "        for row in dictToWrite:\n",
    "            writer.writerow(row)"
   ]
  },
  {
   "cell_type": "code",
   "execution_count": null,
   "id": "36c55fd1-81d9-42df-b61f-e1fc47e546ac",
   "metadata": {},
   "outputs": [],
   "source": [
    "lichessData['winLossDraw'] = lichessData['Result'].str.split('-').str[0]\n",
    "df = lichessData\n",
    "\n",
    "from sklearn.model_selection import train_test_split\n",
    "sample_df,_ = train_test_split(df\n",
    "                               , train_size=0.01\n",
    "                               , random_state=123\n",
    "                               , stratify=df[[openingVariable, 'whiteWin']])\n",
    "                                     \n",
    "chunk_size = 500  # Adjust this based on your memory constraints\n",
    "# Define your data processing function here\n",
    "\n",
    "linesProcessed = 0\n",
    "dataFrameSize = len(df)\n",
    "printThreshold = dataFrameSize/1000\n",
    "start_time = time.time()\n",
    "analysis_df = sample_df\n",
    "processed_df = pd.DataFrame()"
   ]
  },
  {
   "cell_type": "code",
   "execution_count": null,
   "id": "6809d9f3-a603-4c3b-8a6e-0c3468c008fa",
   "metadata": {},
   "outputs": [],
   "source": [
    "for start_idx in range(0, len(analysis_df), chunk_size):\n",
    "    startTime = time.time()\n",
    "    end_idx = start_idx + chunk_size\n",
    "    chunk = analysis_df.iloc[start_idx:end_idx]\n",
    "    \n",
    "    try:\n",
    "        # Process the chunk and add new columns\n",
    "        processed_chunk = process_data(chunk)\n",
    "        processed_df = pd.concat([processed_df, processed_chunk], ignore_index=True)\n",
    "    except Exception as e:\n",
    "        print(f\"Error occurred: {e}\")\n",
    "    \n",
    "    if os.path.exists(pgnOut_iter):\n",
    "        processed_chunk.to_csv(pgnOut_iter, sep=\"\\t\", mode='a', header=False)\n",
    "    else:\n",
    "        processed_chunk.to_csv(pgnOut_iter, sep=\"\\t\", mode='w')\n",
    "        \n",
    "    \n",
    "    print(time.time()-startTime)\n",
    "    print(f\"{start_idx} Completed\")"
   ]
  },
  {
   "cell_type": "code",
   "execution_count": null,
   "id": "8456ef0b-20e0-4cd0-8f21-c4d22dd2a135",
   "metadata": {},
   "outputs": [],
   "source": [
    "# Save the final processed DataFrame to a file\n",
    "processed_df.to_csv(pgnOut, sep=\"\\t\")"
   ]
  }
 ],
 "metadata": {
  "kernelspec": {
   "display_name": "Python 3 (ipykernel)",
   "language": "python",
   "name": "python3"
  },
  "language_info": {
   "codemirror_mode": {
    "name": "ipython",
    "version": 3
   },
   "file_extension": ".py",
   "mimetype": "text/x-python",
   "name": "python",
   "nbconvert_exporter": "python",
   "pygments_lexer": "ipython3",
   "version": "3.9.13"
  }
 },
 "nbformat": 4,
 "nbformat_minor": 5
}
