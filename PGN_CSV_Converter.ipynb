{
 "cells": [
  {
   "cell_type": "markdown",
   "id": "6aef9dcd-cc65-475b-abc3-b130394e026f",
   "metadata": {},
   "source": [
    "# Program that converts a chess database PGN format to a Pandas compatible CSV"
   ]
  },
  {
   "cell_type": "code",
   "execution_count": null,
   "id": "a6fb1e18-ffed-40ec-9bff-a5cc3b3e5c56",
   "metadata": {},
   "outputs": [],
   "source": [
    "import os\n",
    "import csv\n",
    "import re\n",
    "import datetime\n",
    "from pathlib import Path"
   ]
  },
  {
   "cell_type": "code",
   "execution_count": null,
   "id": "0f6c2e71-ec51-4ca8-b4d5-21fed45e4582",
   "metadata": {},
   "outputs": [],
   "source": [
    "pgnFolder = r\"E:\\ChessData\"\n",
    "csvFolder = r\"E:\\ChessData\\newOutputs\"\n",
    "pgnName = \"lichess_db_standard_rated_2023-06\"\n",
    "outputName = \"_10MinGames_15Jun2023_limit_10GB\""
   ]
  },
  {
   "cell_type": "code",
   "execution_count": null,
   "id": "c4aa513a-019b-433a-b763-676a0fdab929",
   "metadata": {},
   "outputs": [],
   "source": [
    "def csvCommit(outFile, dictToWrite, csvHeaders):\n",
    "    file_exists = os.path.isfile(outFile)\n",
    "    with open(outFile, mode='a', newline='') as file:\n",
    "        writer = csv.DictWriter(file, fieldnames=csvHeaders)\n",
    "        if not file_exists:\n",
    "            writer.writeheader()  # file doesn't exist yet, write a header\n",
    "        for row in dictToWrite:\n",
    "            writer.writerow(row)"
   ]
  },
  {
   "cell_type": "code",
   "execution_count": null,
   "id": "1cbf9cfc-ffd4-45f9-a8b1-372a4343a49f",
   "metadata": {},
   "outputs": [],
   "source": [
    "def pgn_2_csv_fix_lines(pgnName, pgnFolder, csvFolder, whiteELO=0, blackELO=0 , timeControl=0, save=0, overwrite = 1, dateReturn = None, memoryLimitGB=1, gameDepositLength=10000):\n",
    "\n",
    "    pgnIn = Path(rf\"{pgnFolder}\\{pgnName}.pgn\")\n",
    "    pgnOut = Path(rf\"{csvFolder}\\{pgnName}_{outputName}.csv\")\n",
    "    pgnLabels = ['Event', 'Site', 'Date', 'Round', 'White', 'Black', 'Result', 'UTCDate', 'UTCTime', 'WhiteElo', 'BlackElo', 'WhiteRatingDiff','BlackRatingDiff','WhiteTitle','BlackTitle', 'ECO', 'Opening', 'TimeControl', 'Termination', 'Moves']\n",
    "    chunkWriter=1\n",
    "    gameProcessed=1\n",
    "    gameCounter=1\n",
    "    memoryLimit = memoryLimitGB*1024*1024*1024\n",
    "    games = []\n",
    "    dic = dict.fromkeys(pgnLabels)\n",
    "    \n",
    "    if os.path.exists(pgnOut) == True and overwrite == 1:\n",
    "        os.remove(pgnOut)\n",
    "        print(f\"File {pgnOut} deleted successfully.\")\n",
    "\n",
    "    with open(pgnIn, \"r\") as stream:\n",
    "        for l in stream:\n",
    "            #This section loops through each line of the PGN and checks what to do with it based on the first character\n",
    "            if l[0] == \"[\":\n",
    "                string = l[1:-1]\n",
    "                header = string.split()[0]\n",
    "                dic[header] = string[len(header):-1].strip().strip('\"')\n",
    "\n",
    "            elif l[0] == \"1\":       \n",
    "                string = l\n",
    "                header = 'Moves'\n",
    "                if string.find(\"...\") or string.find(\"{\"):\n",
    "                   #Remove Lichess Captions in Moves\n",
    "                   string = re.sub(\"\\{(.*?)\\}\", \"\", string)\n",
    "                   string = re.sub(\"(\\d+\\.{3})\", \"\", string)\n",
    "                   string = re.sub(\"\\?!|!\\?|\\?*|!*\", \"\", string)\n",
    "                   string = re.sub(\"\\s+\", \" \", string)\n",
    "                   string = re.sub(\" (1\\/2-1\\/2|\\d-\\d)\", \"\", string)\n",
    "                #This section filters out games based on the requirements of the function above.\n",
    "                if (dic['WhiteElo'] in ['?','-'] \n",
    "                    or dic['BlackElo'] in ['?','-'] \n",
    "                    or dic['TimeControl'] in ['?','-']\n",
    "                    or dic['WhiteTitle'] in ['BOT']\n",
    "                    or dic['BlackTitle'] in ['BOT']\n",
    "                    or dic['Termination'] in ['Abandoned', 'Rules infraction']\n",
    "                    ):\n",
    "                    pass\n",
    "\n",
    "                elif int(dic['WhiteElo']) >= whiteELO and int(dic['BlackElo']) >= blackELO and int(dic['TimeControl'].split('+')[0]) >= timeControl:\n",
    "                    dic[header] = string\n",
    "                    games.append(dic)\n",
    "                    gameCounter+=1\n",
    "                    if gameCounter%1000 == 0:\n",
    "                        print(rf\"Games Saved: {gameCounter}\")\n",
    "                else:\n",
    "                    pass\n",
    "                \n",
    "                gameProcessed+=1\n",
    "                if dateReturn != None:\n",
    "                    if (datetime.datetime.strptime(dic[\"UTCDate\"], \"%Y.%m.%d\")) == dateReturn :\n",
    "                        return print(rf\"Date limit of {dateReturn} reached\")\n",
    "                if gameProcessed%gameDepositLength == 0:\n",
    "                    print(rf\"Games Processed: {gameProcessed}\")\n",
    "                dic = dict.fromkeys(pgnLabels)       \n",
    "            else:\n",
    "                pass\n",
    "            \n",
    "            #Commits the \"games\" Dictionary to the CSV \n",
    "            if (len(games) >= gameDepositLength):\n",
    "                csvCommit(pgnOut, games, pgnLabels)\n",
    "                chunkWriter +=1\n",
    "                print(chunkWriter)\n",
    "                games = []\n",
    "            if os.path.exists(pgnOut) == True:\n",
    "                if pgnOut.stat().st_size >= memoryLimit:\n",
    "                    return print(rf\"Memory limit of {memoryLimit} reached\")\n",
    "        \n",
    "        csvCommit(pgnOut, games, pgnLabels)\n",
    "            "
   ]
  },
  {
   "cell_type": "markdown",
   "id": "3a543777-09d8-4f71-a5ae-6b2a7d0fa69b",
   "metadata": {},
   "source": [
    "Call function with inputs for game selection"
   ]
  },
  {
   "cell_type": "code",
   "execution_count": null,
   "id": "54a70dee-dfb2-412c-82fb-0f760e50daaf",
   "metadata": {},
   "outputs": [],
   "source": [
    "pgn_2_csv_fix_lines(pgnName, pgnFolder, csvFolder, whiteELO=0, blackELO=0, timeControl=600, save = 1, overwrite=1, dateReturn=(datetime.date(2023, 6,15)),  memoryLimitGB = 10, gameDepositLength= 100000)"
   ]
  }
 ],
 "metadata": {
  "kernelspec": {
   "display_name": "Python 3 (ipykernel)",
   "language": "python",
   "name": "python3"
  },
  "language_info": {
   "codemirror_mode": {
    "name": "ipython",
    "version": 3
   },
   "file_extension": ".py",
   "mimetype": "text/x-python",
   "name": "python",
   "nbconvert_exporter": "python",
   "pygments_lexer": "ipython3",
   "version": "3.9.13"
  }
 },
 "nbformat": 4,
 "nbformat_minor": 5
}
