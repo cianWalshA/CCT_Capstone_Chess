{
 "cells": [
  {
   "cell_type": "markdown",
   "id": "e5ef3c22-4b3a-4a86-8548-9c552dea49e3",
   "metadata": {},
   "source": [
    "# Chess engine analysis of puzzles"
   ]
  },
  {
   "cell_type": "code",
   "execution_count": null,
   "id": "52db9234-dbf1-47ed-8b0f-411360e1a57a",
   "metadata": {},
   "outputs": [],
   "source": [
    "import chess\n",
    "import chess.pgn\n",
    "import re\n",
    "import pandas as pd\n",
    "import numpy as np\n",
    "import seaborn as sns\n",
    "import matplotlib.pyplot as plt\n",
    "from scipy import stats\n",
    "from pathlib import Path"
   ]
  },
  {
   "cell_type": "code",
   "execution_count": null,
   "id": "4eab7008-f1ae-4f1a-be47-a777cb560e8e",
   "metadata": {},
   "outputs": [],
   "source": [
    "stockfish_Path = Path(r\"C:\\Users\\cianw\\Chess Engines\\Latest\\stockfish-windows-x86-64-avx2\\stockfish\\stockfish-windows-x86-64-avx2.exe\")\n",
    "lc0_Path = Path(r\"C:\\Users\\cianw\\Chess Engines\\Latest\\lc0-v0.30.0-windows-gpu-nvidia-cuda\\lc0.exe\")\n",
    " \n",
    "outputFolder = r\"C:\\Users\\cianw\\Documents\\dataAnalytics\\projectFinal\\Outputs\"\n",
    "\n",
    "lichessPuzzles_Path = Path(r\"C:\\Users\\cianw\\Documents\\dataAnalytics\\projectFinal\\Data\\Chess\\Lichess\\puzzles\\lichess_db_puzzle.csv\")\n",
    "lichessPuzzles = pd.read_csv(lichessPuzzles_Path)\n",
    "\n",
    "stockfish_engine = chess.engine.SimpleEngine.popen_uci(stockfish_Path)\n",
    "stockfish_options = {'Clear Hash':True}\n",
    "lc0_engine = chess.engine.SimpleEngine.popen_uci(lc0_Path)\n",
    "lc0_options = {'NNCacheSize':0}"
   ]
  },
  {
   "cell_type": "code",
   "execution_count": null,
   "id": "abef5783-57f2-4b71-b6b0-3fca01c811fd",
   "metadata": {},
   "outputs": [],
   "source": [
    "def returnWord(s, substr):\n",
    "    pattern = rf'\\b\\w*{substr}\\w*\\b'\n",
    "    match = re.search(pattern, s, re.IGNORECASE)\n",
    "    return match.group() if match else None"
   ]
  },
  {
   "cell_type": "code",
   "execution_count": null,
   "id": "c41605db-0401-45c6-a669-59d457323e63",
   "metadata": {},
   "outputs": [],
   "source": [
    "def return_best_move_puzzles_info(fen, moves, mateInX, loadedEngine, engineOptions):\n",
    "    #print(i)\n",
    "    board = chess.Board(fen)\n",
    "    firstMove = moves.split()[0]   \n",
    "    board.push_uci(firstMove)\n",
    "    loadedEngine.configure(engineOptions)\n",
    "    #Declares a dictionary of \"info\" where it can be looped through while the mate has not been found\n",
    "    info = loadedEngine.analyse(board, limit=chess.engine.Limit(time=0), info=chess.engine.INFO_ALL)\n",
    "    with loadedEngine.analysis(board) as analysis:\n",
    "        for info in analysis:\n",
    "            if info.get(\"score\"):\n",
    "                if info.get(\"score\").relative in (chess.engine.Mate(mateInX), chess.engine.Mate(mateInX)):\n",
    "                    break\n",
    "                elif info.get(\"time\")>10:\n",
    "                    break\n",
    "    return info"
   ]
  },
  {
   "cell_type": "code",
   "execution_count": null,
   "id": "a5b08e98-85ee-471c-a6f4-563d0dd74899",
   "metadata": {},
   "outputs": [],
   "source": [
    "def chess_position_converter(value):\n",
    "    return chess.Board(value)      "
   ]
  },
  {
   "cell_type": "code",
   "execution_count": null,
   "id": "903b42a8-591a-4592-884a-434074fd256c",
   "metadata": {},
   "outputs": [],
   "source": [
    "def check_for_mate(df, variable):\n",
    "    contains_mate = df[variable].str.contains('Mate').sum()\n",
    "    does_not_contain_mate = len(df) - contains_mate\n",
    "    print(f\"{variable} - Number of strings containing 'Mate': {contains_mate}\")\n",
    "    print(f\"{variable} - Number of strings not containing 'Mate': {does_not_contain_mate}\")"
   ]
  },
  {
   "cell_type": "code",
   "execution_count": null,
   "id": "099c287a-5262-4bb0-97bb-a5e649df2e5b",
   "metadata": {},
   "outputs": [],
   "source": [
    "#Test for normality in distributions:\n",
    "def normal_test_subgroups(df, dataCol, subgroup , alpha):\n",
    "    results=[]\n",
    "    uniqueVals = pd.Series.unique(df[subgroup])\n",
    "    for value in uniqueVals:\n",
    "        subgroup_df = df[df[subgroup]==int(value)]\n",
    "        \n",
    "        #Apply Shapiro-Wilk Normality Test\n",
    "        tStat, pValue = stats.shapiro(subgroup_df[dataCol])\n",
    "        # Determine if the subgroup follows a normal distribution\n",
    "        normal = pValue > alpha\n",
    "        \n",
    "        results.append((value, tStat, pValue, normal))\n",
    "        print(rf\"Variable: {dataCol} - Subgroup: {value} - test: {tStat} - p-Value: {pValue} - Normal: {normal}\")\n",
    "    return pd.DataFrame(results, columns = [subgroup, 'testStatistic', 'pValue', 'isNormal'])"
   ]
  },
  {
   "cell_type": "code",
   "execution_count": null,
   "id": "cdd7f306-4b96-498a-a882-3859f1a60464",
   "metadata": {},
   "outputs": [],
   "source": [
    "def mwu_test(df, dataCol1, dataCol2, subgroup, direction , alpha):\n",
    "     results=[]\n",
    "     uniqueVals = pd.Series.unique(df[subgroup])\n",
    "     for value in uniqueVals:\n",
    "         subgroup_df = df[df[subgroup]==int(value)]\n",
    "         \n",
    "         #Apply Shapiro-Wilk Normality Test\n",
    "         summary1= subgroup_df[dataCol1].describe(include='all').loc['50%']\n",
    "         summary2= subgroup_df[dataCol2].describe(include='all').loc['50%']\n",
    "\n",
    "         tStat, pValue = stats.mannwhitneyu(x = subgroup_df[dataCol1], y = subgroup_df[dataCol2], alternative = direction, method='auto')\n",
    "         # Determine if the subgroup follows a normal distribution\n",
    "         testResult = pValue < alpha\n",
    "         \n",
    "         results.append((value, tStat, pValue, testResult, summary1,summary2))\n",
    "         print(rf\"Variable: {dataCol1}&{dataCol2} - Subgroup: {value} - test: {tStat} - p-Value: {pValue} - Result: {testResult}\")\n",
    "     return pd.DataFrame(results, columns = [subgroup, 'testStatistic', 'pValue', 'testResult','summaryValue1', 'summaryValue2' ])  "
   ]
  },
  {
   "cell_type": "code",
   "execution_count": null,
   "id": "34b106c0-beb7-43a3-9f4f-c5c086b65873",
   "metadata": {},
   "outputs": [],
   "source": [
    "matePuzzles = lichessPuzzles[lichessPuzzles['Themes'].str.contains(\"mate\", case=False)]\n",
    "matePuzzles['mateInX'] = matePuzzles['Moves'].str.split().str.len()/2\n",
    "matePuzzles['mateInX'].value_counts()\n",
    "longMates = matePuzzles[matePuzzles['mateInX']>=5.0]"
   ]
  },
  {
   "cell_type": "code",
   "execution_count": null,
   "id": "f0d80bc3-6be3-4e5d-bad1-aac087cf3cff",
   "metadata": {},
   "outputs": [],
   "source": [
    "longMates['stockfishInfo'] = longMates.apply(lambda row: return_best_move_puzzles_info(row['FEN'], row['Moves'], row['mateInX'], stockfish_engine, stockfish_options), axis=1)\n",
    "longMates['lc0Info'] = longMates.apply(lambda row: return_best_move_puzzles_info(row['FEN'], row['Moves'], row['mateInX'], lc0_engine, lc0_options), axis=1)\n",
    "longMates = pd.concat([longMates,longMates['stockfishInfo'].apply(pd.Series).add_prefix('SF_')], axis=1)\n",
    "longMates = pd.concat([longMates,longMates['lc0Info'].apply(pd.Series).add_prefix('LC0_')], axis=1)"
   ]
  },
  {
   "cell_type": "code",
   "execution_count": null,
   "id": "26f65c9a-9599-4340-baef-eb4b592a9540",
   "metadata": {},
   "outputs": [],
   "source": [
    "longMates.to_csv(r\"C:\\Users\\cianw\\Documents\\dataAnalytics\\projectFinal\\Data\\Chess\\Lichess\\puzzles\\matePuzzlesSolvedExp.csv\")"
   ]
  },
  {
   "cell_type": "code",
   "execution_count": null,
   "id": "c2283ff8-1664-4ffa-81fc-c933c2957442",
   "metadata": {},
   "outputs": [],
   "source": [
    "#Save and load in again, removes chess object type for both SF_score and LC0_score, but this is not an issue for analysis\n",
    "solved = pd.read_csv(r\"C:\\Users\\cianw\\Documents\\dataAnalytics\\projectFinal\\Data\\Chess\\Lichess\\puzzles\\matePuzzlesSolvedExp.csv\")"
   ]
  },
  {
   "cell_type": "code",
   "execution_count": null,
   "id": "b2d09c8c-12b7-40e1-ac1d-7e5a224d8ce3",
   "metadata": {},
   "outputs": [],
   "source": [
    "solved_Adj = solved[solved['mateInX']<=8]\n",
    "check_for_mate(solved_Adj, 'SF_score')\n",
    "check_for_mate(solved_Adj, 'LC0_score')\n",
    "\n",
    "solved_Adj = solved_Adj[(solved_Adj['SF_score'].str.contains('Mate')) & (solved_Adj['LC0_score'].str.contains('Mate'))]\n",
    "\n",
    "uniqueVals = pd.Series.unique(solved['mateInX'])"
   ]
  },
  {
   "cell_type": "code",
   "execution_count": null,
   "id": "e8078c67-ed36-49e4-86bf-6ba6e708b68f",
   "metadata": {},
   "outputs": [],
   "source": [
    "#Test for normality as Time is Continouse\n",
    "#Nodes and seldepth are discrete therefore non-normal\n",
    "SF_timeNormal = normal_test_subgroups(solved_Adj, 'SF_time', 'mateInX', 0.05)\n",
    "LC0_timeNormal = normal_test_subgroups(solved_Adj, 'LC0_time', 'mateInX', 0.05)\n",
    "            \n",
    "solved_Adj_rename = solved_Adj.rename(columns={'SF_seldepth':'Stockfish SelDepth',\n",
    "                                        'LC0_seldepth':'LeelaChessZero SelDepth',\n",
    "                                        'SF_time':'Stockfish Time',\n",
    "                                        'LC0_time':'LeelaChessZero Time',\n",
    "                                        'SF_nodes':'Stockfish Nodes',\n",
    "                                        'LC0_nodes':'LeelaChessZero Nodes',\n",
    "                                        'mateInX':'Mate In X'\n",
    "                                        })"
   ]
  },
  {
   "cell_type": "code",
   "execution_count": null,
   "id": "eb689bbb-d031-423a-a647-e9737e838875",
   "metadata": {},
   "outputs": [],
   "source": [
    "sns.histplot(data=solved_Adj_rename, x='Stockfish Time', bins= 100)\n",
    "plt.show()\n",
    "sns.histplot(data=solved_Adj_rename, x='LeelaChessZero Time')\n",
    "plt.show()\n",
    "    "
   ]
  },
  {
   "cell_type": "code",
   "execution_count": null,
   "id": "8ad8e064-b32b-461a-bf8d-519661803552",
   "metadata": {},
   "outputs": [],
   "source": [
    "seldepthDistTest = mwu_test(solved_Adj_rename, 'Stockfish SelDepth', 'LeelaChessZero SelDepth', 'Mate In X','less', 0.05)\n",
    "timeDistTest = mwu_test(solved_Adj_rename, 'Stockfish Time', 'LeelaChessZero Time', 'Mate In X','less', 0.05)\n",
    "nodesDistTest = mwu_test(solved_Adj_rename, 'Stockfish Nodes', 'LeelaChessZero Nodes', 'Mate In X','greater', 0.05)"
   ]
  },
  {
   "cell_type": "code",
   "execution_count": null,
   "id": "c223838c-fb47-4d94-bd5e-023c4707fe29",
   "metadata": {},
   "outputs": [],
   "source": [
    "sns.set(style=\"whitegrid\")\n",
    "plt.figure(figsize=(10, 6), dpi=600)\n",
    "seldepthMelt = pd.melt(solved_Adj_rename,id_vars = 'Mate In X', value_vars=['Stockfish SelDepth','LeelaChessZero SelDepth' ])\n",
    "seldepthMelt = seldepthMelt.rename(columns={'value':'SelDepth', 'variable':'Engine'})\n",
    "fig1 = sns.boxplot(data=seldepthMelt, x='Engine', y= 'SelDepth', hue= 'Mate In X', palette='Set3')\n",
    "plt.legend(title=\"Mate in X\", loc=\"upper left\", bbox_to_anchor=(0.275, -0.1), ncol=4)\n",
    "y_ticks = np.arange(0, seldepthMelt[\"SelDepth\"].max() + 1, 5)\n",
    "plt.yticks(y_ticks)\n",
    "plt.show()\n",
    "\n",
    "plt.figure(figsize=(10, 6), dpi=600)\n",
    "timeMelt = pd.melt(solved_Adj_rename,id_vars = 'Mate In X', value_vars=['Stockfish Time','LeelaChessZero Time' ])\n",
    "timeMelt = timeMelt.rename(columns={'value':'Time (ms)', 'variable':'Engine'})\n",
    "fig2 = sns.boxplot(data=timeMelt, x='Engine', y= 'Time (ms)', hue= 'Mate In X', palette='Set3')\n",
    "plt.legend(title=\"Mate in X\", loc=\"upper left\", bbox_to_anchor=(0.275, -0.1), ncol=4)\n",
    "plt.ylabel('Log(Time (ms))')\n",
    "plt.yscale('log')\n",
    "plt.show()\n",
    "\n",
    "plt.figure(figsize=(10, 6), dpi=600)\n",
    "nodesMelt = pd.melt(solved_Adj_rename,id_vars = 'Mate In X', value_vars=['Stockfish Nodes','LeelaChessZero Nodes' ])\n",
    "nodesMelt = nodesMelt.rename(columns={'value':'Nodes', 'variable':'Engine'})\n",
    "fig3 = sns.boxplot(data=nodesMelt, x='Engine', y= 'Nodes', hue= 'Mate In X', palette='Set3')\n",
    "plt.legend(title=\"Mate in X\", loc=\"upper left\", bbox_to_anchor=(0.275, -0.1), ncol=4)\n",
    "plt.ylabel('Log(Nodes)')\n",
    "plt.yscale('log')\n",
    "plt.show()"
   ]
  },
  {
   "cell_type": "code",
   "execution_count": null,
   "id": "fb3550da-e205-438e-905a-1b0d25b4062e",
   "metadata": {},
   "outputs": [],
   "source": [
    "fig1.get_figure().savefig(rf\"{outputFolder}\\SelDepth.png\", bbox_inches=\"tight\")\n",
    "fig2.get_figure().savefig(rf\"{outputFolder}\\Time.png\", bbox_inches=\"tight\")\n",
    "fig3.get_figure().savefig(rf\"{outputFolder}\\Nodes.png\", bbox_inches=\"tight\")"
   ]
  }
 ],
 "metadata": {
  "kernelspec": {
   "display_name": "Python 3 (ipykernel)",
   "language": "python",
   "name": "python3"
  },
  "language_info": {
   "codemirror_mode": {
    "name": "ipython",
    "version": 3
   },
   "file_extension": ".py",
   "mimetype": "text/x-python",
   "name": "python",
   "nbconvert_exporter": "python",
   "pygments_lexer": "ipython3",
   "version": "3.9.13"
  }
 },
 "nbformat": 4,
 "nbformat_minor": 5
}
