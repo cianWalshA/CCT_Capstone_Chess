{
 "cells": [
  {
   "cell_type": "markdown",
   "id": "e5ef3c22-4b3a-4a86-8548-9c552dea49e3",
   "metadata": {},
   "source": [
    "# Chess engine analysis of puzzles"
   ]
  },
  {
   "cell_type": "code",
   "execution_count": null,
   "id": "317ca5c5-3eca-49ad-9174-7dd8e3d1347a",
   "metadata": {},
   "outputs": [],
   "source": [
    "import sys\n",
    "import io\n",
    "import os\n",
    "import time\n",
    "import csv\n",
    "import chess\n",
    "import chess.pgn\n",
    "import stockfish\n",
    "import re\n",
    "import pandas as pd\n",
    "import numpy as np\n",
    "import seaborn as sns\n",
    "import matplotlib.pyplot as plt\n",
    "from scipy import stats\n",
    "from pathlib import Path\n",
    "from datetime import datetime "
   ]
  },
  {
   "cell_type": "code",
   "execution_count": null,
   "id": "bd290fb6-f8e7-4b63-893d-d318949836ca",
   "metadata": {},
   "outputs": [],
   "source": [
    "stockfish_Path = Path(r\"C:\\Users\\cianw\\Chess Engines\\Latest\\stockfish-windows-x86-64-avx2\\stockfish\\stockfish-windows-x86-64-avx2.exe\")\n",
    "lc0_Path = Path(r\"C:\\Users\\cianw\\Chess Engines\\Latest\\lc0-v0.30.0-windows-gpu-nvidia-cuda\\lc0.exe\")\n",
    "stockfish_engine = chess.engine.SimpleEngine.popen_uci(stockfish_Path)\n",
    "stockfish_options = {'Clear Hash':True}\n",
    "lc0_engine = chess.engine.SimpleEngine.popen_uci(lc0_Path)\n",
    "lc0_options = {'NNCacheSize':0}"
   ]
  },
  {
   "cell_type": "code",
   "execution_count": null,
   "id": "f6e6ded2-dcdb-40a2-ab28-688a38ba9d6a",
   "metadata": {},
   "outputs": [],
   "source": [
    "csvFolder = r\"E:\\ChessData\"\n",
    "pgnName = \"lichess_db_standard_rated_2023-06_2000_5m\"\n",
    "pgnIn = Path(rf\"{csvFolder}\\{pgnName}.csv\")\n",
    "pgnIn_EnglineAnalysis = Path(rf\"{csvFolder}\\{pgnName}_engineApplied.tsv\")"
   ]
  },
  {
   "cell_type": "code",
   "execution_count": null,
   "id": "a3f6e832-88d9-41f7-aeb8-2e94a3233386",
   "metadata": {},
   "outputs": [],
   "source": [
    "lichessPuzzles_Path = Path(r\"C:\\Users\\cianw\\Documents\\dataAnalytics\\projectFinal\\Data\\Chess\\Lichess\\puzzles\\lichess_db_puzzle.csv\")\n",
    "lichessPuzzles = pd.read_csv(lichessPuzzles_Path)"
   ]
  },
  {
   "cell_type": "code",
   "execution_count": null,
   "id": "ec2e7492-402f-492b-855f-a713fddde6c9",
   "metadata": {},
   "outputs": [],
   "source": [
    "def returnWord(s, substr):\n",
    "    pattern = rf'\\b\\w*{substr}\\w*\\b'\n",
    "    match = re.search(pattern, s, re.IGNORECASE)\n",
    "    return match.group() if match else None"
   ]
  },
  {
   "cell_type": "code",
   "execution_count": null,
   "id": "493653b7-16ca-44f2-a857-22ae6e8b5bf1",
   "metadata": {},
   "outputs": [],
   "source": [
    "def return_best_move_puzzles_info(fen, moves, mateInX, loadedEngine, engineOptions):\n",
    "    outputList = []\n",
    "    #print(i)\n",
    "    board = chess.Board(fen)\n",
    "    firstMove = moves.split()[0]   \n",
    "    secondMove = moves.split()[1]   \n",
    "    board.push_uci(firstMove)\n",
    "    loadedEngine.configure(engineOptions)\n",
    "    #Declares a dictionary of \"info\" where it can be looped through while the mate has not been found\n",
    "    info = loadedEngine.analyse(board, limit=chess.engine.Limit(time=0), info=chess.engine.INFO_ALL)\n",
    "    with loadedEngine.analysis(board) as analysis:\n",
    "        for info in analysis:\n",
    "            if info.get(\"score\"):\n",
    "                if info.get(\"score\").relative in (chess.engine.Mate(mateInX), chess.engine.Mate(mateInX)):\n",
    "                    break\n",
    "                elif info.get(\"time\")>10:\n",
    "                    break\n",
    "    return info"
   ]
  },
  {
   "cell_type": "code",
   "execution_count": null,
   "id": "d76b95c7-6f4e-4d30-b31f-ee6517a93d7d",
   "metadata": {},
   "outputs": [],
   "source": [
    "#Test for normality in distributions:\n",
    "def normal_test_subgroups(df, dataCol, subgroup , alpha):\n",
    "    results=[]\n",
    "    uniqueVals = pd.Series.unique(df[subgroup])\n",
    "    for value in uniqueVals:\n",
    "        subgroup_df = df[df[subgroup]==int(value)]\n",
    "        \n",
    "        #Apply Shapiro-Wilk Normality Test\n",
    "        tStat, pValue = stats.shapiro(subgroup_df[dataCol])\n",
    "        # Determine if the subgroup follows a normal distribution\n",
    "        normal = pValue > alpha\n",
    "        \n",
    "        results.append((value, tStat, pValue, normal))\n",
    "        print(rf\"Variable: {dataCol} - Subgroup: {value} - test: {tStat} - p-Value: {pValue} - Normal: {normal}\")\n",
    "    return pd.DataFrame(results, columns = [subgroup, 'testStatistic', 'pValue', 'isNormal'])"
   ]
  },
  {
   "cell_type": "code",
   "execution_count": null,
   "id": "615b644f-5a4f-4e4b-a632-72df77236db1",
   "metadata": {},
   "outputs": [],
   "source": [
    "def mwu_test(df, dataCol1, dataCol2, subgroup, direction , alpha):\n",
    "     results=[]\n",
    "     uniqueVals = pd.Series.unique(df[subgroup])\n",
    "     for value in uniqueVals:\n",
    "         subgroup_df = df[df[subgroup]==int(value)]\n",
    "         \n",
    "         #Apply Shapiro-Wilk Normality Test\n",
    "         summary1= subgroup_df[dataCol1].describe()\n",
    "         summary2= subgroup_df[dataCol2].describe()\n",
    "\n",
    "         tStat, pValue = stats.mannwhitneyu(x = subgroup_df[dataCol1], y = subgroup_df[dataCol2], alternative = direction, method='auto')\n",
    "         # Determine if the subgroup follows a normal distribution\n",
    "         testResult = pValue > alpha\n",
    "         \n",
    "         results.append((value, tStat, pValue, testResult, summary1,summary2))\n",
    "         print(rf\"Variable: {dataCol1}&{dataCol2} - Subgroup: {value} - test: {tStat} - p-Value: {pValue} - Result: {testResult}\")\n",
    "     return pd.DataFrame(results, columns = [subgroup, 'testStatistic', 'pValue', 'testResult','summaryValue1', 'summaryValue2' ])  "
   ]
  },
  {
   "cell_type": "code",
   "execution_count": null,
   "id": "f9390060-47a3-4070-98a1-816247f1e162",
   "metadata": {},
   "outputs": [],
   "source": [
    "matePuzzles = lichessPuzzles[lichessPuzzles['Themes'].str.contains(\"mate\", case=False)]\n",
    "matePuzzles['mateInX'] = matePuzzles['Moves'].str.split().str.len()/2\n",
    "matePuzzles['mateInX'].value_counts()\n",
    "longMates = matePuzzles[matePuzzles['mateInX']>=5.0]\n",
    "testDF= longMates.sample(n=10)"
   ]
  },
  {
   "cell_type": "code",
   "execution_count": null,
   "id": "0e9cce26-b05f-4c89-8a95-f51221739480",
   "metadata": {},
   "outputs": [],
   "source": [
    "longMates['stockfishInfo'] = longMates.apply(lambda row: return_best_move_puzzles_info(row['FEN'], row['Moves'], row['mateInX'], stockfish_engine, stockfish_options), axis=1)\n",
    "longMates['lc0Info'] = longMates.apply(lambda row: return_best_move_puzzles_info(row['FEN'], row['Moves'], row['mateInX'], lc0_engine, lc0_options), axis=1)\n",
    "longMates = pd.concat([longMates,longMates['stockfishInfo'].apply(pd.Series).add_prefix('SF_')], axis=1)\n",
    "longMates = pd.concat([longMates,longMates['lc0Info'].apply(pd.Series).add_prefix('LC0_')], axis=1)"
   ]
  },
  {
   "cell_type": "code",
   "execution_count": null,
   "id": "f0b0d33e-a132-42ba-adad-652e6125abc6",
   "metadata": {},
   "outputs": [],
   "source": [
    "longMates.to_csv(r\"C:\\Users\\cianw\\Documents\\dataAnalytics\\projectFinal\\Data\\Chess\\Lichess\\puzzles\\matePuzzlesSolvedExp.csv\")"
   ]
  },
  {
   "cell_type": "code",
   "execution_count": null,
   "id": "c7cfbec7-dcb0-42f1-b583-8b163e0bc8db",
   "metadata": {},
   "outputs": [],
   "source": [
    "solved = pd.read_csv(r\"C:\\Users\\cianw\\Documents\\dataAnalytics\\projectFinal\\Data\\Chess\\Lichess\\puzzles\\matePuzzlesSolvedExp.csv\")"
   ]
  },
  {
   "cell_type": "code",
   "execution_count": null,
   "id": "4b61b954-afe5-4509-981e-11c1bdf7483d",
   "metadata": {},
   "outputs": [],
   "source": [
    "solved_Adj = solved[solved['mateInX']<=8]\n",
    "solved_5 = solved[solved['mateInX']==5]\n",
    "solved_6 = solved[solved['mateInX']==6]\n",
    "solved_7 = solved[solved['mateInX']==7]\n",
    "solved_8 = solved[solved['mateInX']==8]\n",
    "#9 and 10 are small populations, will analyse 5-8 and determine if further analytics are required to support\n",
    "solved_9 = solved[solved['mateInX']==9]\n",
    "solved_10 = solved[solved['mateInX']==10]\n",
    "\n",
    "uniqueVals = pd.Series.unique(solved['mateInX'])"
   ]
  },
  {
   "cell_type": "code",
   "execution_count": null,
   "id": "48164ec1-e808-4d1c-94eb-621ec39e6f26",
   "metadata": {},
   "outputs": [],
   "source": [
    "SF_seldepthNormal = normal_test_subgroups(solved_Adj, 'SF_seldepth', 'mateInX', 0.05)\n",
    "LC0_seldepthNormal = normal_test_subgroups(solved_Adj, 'LC0_seldepth', 'mateInX', 0.05)\n",
    "SF_timeNormal = normal_test_subgroups(solved_Adj, 'SF_time', 'mateInX', 0.05)\n",
    "LC0_timeNormal = normal_test_subgroups(solved_Adj, 'LC0_time', 'mateInX', 0.05)\n",
    "SF_nodesNormal = normal_test_subgroups(solved_Adj, 'SF_nodes', 'mateInX', 0.05)\n",
    "LC0_nodesNormal = normal_test_subgroups(solved_Adj, 'LC0_nodes', 'mateInX', 0.05)\n",
    "            \n",
    "\n",
    "solved_Adj_rename = solved_Adj.rename(columns={'SF_seldepth':'Stockfish SelDepth',\n",
    "                                        'LC0_seldepth':'LeelaChessZero SelDepth',\n",
    "                                        'SF_time':'Stockfish Time',\n",
    "                                        'LC0_time':'LeelaChessZero Time',\n",
    "                                        'SF_nodes':'Stockfish Nodes',\n",
    "                                        'LC0_nodes':'LeelaChessZero Nodes',\n",
    "                                        'mateInX':'Mate In X'\n",
    "                                        })"
   ]
  },
  {
   "cell_type": "code",
   "execution_count": null,
   "id": "4e5b5e53-6e58-46f8-bf76-8b7ef5c82246",
   "metadata": {},
   "outputs": [],
   "source": [
    "seldepthDistTest = mwu_test(solved_Adj_rename, 'Stockfish SelDepth', 'LeelaChessZero SelDepth', 'Mate In X','two-sided', 0.05)\n",
    "timeDistTest = mwu_test(solved_Adj_rename, 'Stockfish Time', 'LeelaChessZero Time', 'Mate In X','two-sided', 0.05)\n",
    "nodesDistTest = mwu_test(solved_Adj_rename, 'Stockfish Nodes', 'LeelaChessZero Nodes', 'Mate In X','two-sided', 0.05)"
   ]
  },
  {
   "cell_type": "code",
   "execution_count": null,
   "id": "90610b8f-7857-478a-966f-65c3dec78a03",
   "metadata": {},
   "outputs": [],
   "source": [
    "seldepthMelt = pd.melt(solved_Adj_rename,id_vars = 'Mate In X', value_vars=['Stockfish SelDepth','LeelaChessZero SelDepth' ])\n",
    "seldepthMelt = seldepthMelt.rename(columns={'value':'SelDepth', 'variable':'Engine'})\n",
    "sns.boxplot(data=seldepthMelt, x='Engine', y= 'SelDepth', hue= 'Mate In X', palette='mako')\n",
    "plt.show()"
   ]
  },
  {
   "cell_type": "code",
   "execution_count": null,
   "id": "4627644d-532a-4a22-b2ca-6775fea3bac7",
   "metadata": {},
   "outputs": [],
   "source": [
    "timeMelt = pd.melt(solved_Adj_rename,id_vars = 'Mate In X', value_vars=['Stockfish Time','LeelaChessZero Time' ])\n",
    "timeMelt = timeMelt.rename(columns={'value':'Time (ms)', 'variable':'Engine'})\n",
    "sns.boxplot(data=timeMelt, x='Engine', y= 'Time (ms)', hue= 'Mate In X', palette='mako')\n",
    "plt.yscale('log')\n",
    "plt.show()"
   ]
  },
  {
   "cell_type": "code",
   "execution_count": null,
   "id": "7d22328c-b0b8-4335-ac68-8f84718f4a98",
   "metadata": {},
   "outputs": [],
   "source": [
    "nodesMelt = pd.melt(solved_Adj_rename,id_vars = 'Mate In X', value_vars=['Stockfish Nodes','LeelaChessZero Nodes' ])\n",
    "nodesMelt = nodesMelt.rename(columns={'value':'Nodes', 'variable':'Engine'})\n",
    "sns.boxplot(data=nodesMelt, x='Engine', y= 'Nodes', hue= 'Mate In X', palette='mako')\n",
    "plt.yscale('log')\n",
    "plt.show()"
   ]
  },
  {
   "cell_type": "code",
   "execution_count": null,
   "id": "0355cb13-a545-4250-af58-83b6c53b17f8",
   "metadata": {},
   "outputs": [],
   "source": [
    "tStat, pValue = stats.mannwhitneyu(x = solved_5['SF_seldepth'], y = solved_5['LC0_seldepth'], alternative = 'greater', method='auto')\n",
    "tStat, pValue = stats.mannwhitneyu(x = solved_6['SF_seldepth'], y = solved_6['LC0_seldepth'], alternative = 'two-sided', method='auto')\n",
    "tStat, pValue = stats.mannwhitneyu(x = solved_7['SF_seldepth'], y = solved_7['LC0_seldepth'], alternative = 'two-sided', method='auto')\n",
    "tStat, pValue = stats.mannwhitneyu(x = solved_8['SF_seldepth'], y = solved_8['LC0_seldepth'], alternative = 'two-sided', method='auto')"
   ]
  }
 ],
 "metadata": {
  "kernelspec": {
   "display_name": "Python 3 (ipykernel)",
   "language": "python",
   "name": "python3"
  },
  "language_info": {
   "codemirror_mode": {
    "name": "ipython",
    "version": 3
   },
   "file_extension": ".py",
   "mimetype": "text/x-python",
   "name": "python",
   "nbconvert_exporter": "python",
   "pygments_lexer": "ipython3",
   "version": "3.9.13"
  }
 },
 "nbformat": 4,
 "nbformat_minor": 5
}
