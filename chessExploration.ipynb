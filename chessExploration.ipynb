{
 "cells": [
  {
   "cell_type": "markdown",
   "id": "f5a3fa83-34e0-4cdf-bcbc-2618271e59f8",
   "metadata": {},
   "source": [
    "# Exploration of 10 Million Chess Game Dataset"
   ]
  },
  {
   "cell_type": "code",
   "execution_count": null,
   "id": "b58df690-4b10-41b0-803b-f9cc25f67f51",
   "metadata": {},
   "outputs": [],
   "source": [
    "imort pandas as pd\n",
    "import numpy as np\n",
    "import seaborn as sns\n",
    "import matplotlib.pyplot as plt\n",
    "from scipy import stats\n",
    "from pathlib import Path\n",
    "\n",
    "from sklearn.cluster import KMeans\n",
    "from sklearn.preprocessing import MinMaxScaler\n",
    "from sklearn.metrics import silhouette_score"
   ]
  },
  {
   "cell_type": "markdown",
   "id": "707e14d4-17e3-4fe7-8e5b-1fce26807939",
   "metadata": {},
   "source": [
    "SECTION 0\n",
    "\n",
    "Paths and Imports"
   ]
  },
  {
   "cell_type": "code",
   "execution_count": null,
   "id": "208dd7c1-591b-4c98-b110-d7af82cf1917",
   "metadata": {},
   "outputs": [],
   "source": [
    "stockfish_Path = Path(r\"C:\\Users\\cianw\\Chess Engines\\Latest\\stockfish-windows-x86-64-avx2\\stockfish\\stockfish-windows-x86-64-avx2.exe\")\n",
    "lc0_Path = Path(r\"C:\\Users\\cianw\\Chess Engines\\Latest\\lc0-v0.30.0-windows-gpu-nvidia-cuda\\lc0.exe\")\n",
    " \n",
    "pgnFolder = r\"E:\\ChessData\"\n",
    "csvFolder = r\"E:\\ChessData\"\n",
    "csvAllRatingFolder = r\"E:\\ChessData\\newOutputs\"\n",
    "outputFolder = r\"C:\\Users\\cianw\\Documents\\dataAnalytics\\projectFinal\\figureOutputs\"\n",
    "\n",
    "pgnName = \"lichess_db_standard_rated_2023-06_2000_1m_row_analysed\"\n",
    "pgnIn_EnglineAnalysis = Path(rf\"{csvFolder}\\{pgnName}.tsv\")\n",
    "\n",
    "pgnNameAllRating = r\"lichess_db_standard_rated_2023-06__10MinGames_15Jun2023_limit_10GB\"\n",
    "pgnIn_AllRatings = Path(rf\"{csvAllRatingFolder}\\{pgnNameAllRating}.csv\")"
   ]
  },
  {
   "cell_type": "code",
   "execution_count": null,
   "id": "9530d988-bc5b-4216-b0f7-ac5e4440c38f",
   "metadata": {},
   "outputs": [],
   "source": [
    "allRatings = pd.read_csv(pgnIn_AllRatings, nrows=10000000)\n",
    "allRatings['UTC_dateTime'] = pd.to_datetime(allRatings['UTCDate'] + ' ' + allRatings['UTCTime'])\n",
    "allRatings.describe()\n",
    "\n",
    "openings_a_Path = Path(rf\"{csvFolder}\\a.tsv\")\n",
    "openings_b_Path = Path(rf\"{csvFolder}\\b.tsv\")\n",
    "openings_c_Path = Path(rf\"{csvFolder}\\c.tsv\")\n",
    "openings_d_Path = Path(rf\"{csvFolder}\\d.tsv\")\n",
    "openings_e_Path = Path(rf\"{csvFolder}\\e.tsv\")\n",
    "openings_a = pd.read_csv(openings_a_Path, sep='\\t')\n",
    "openings_b = pd.read_csv(openings_b_Path, sep='\\t')\n",
    "openings_c = pd.read_csv(openings_c_Path, sep='\\t')\n",
    "openings_d = pd.read_csv(openings_d_Path, sep='\\t')\n",
    "openings_e = pd.read_csv(openings_e_Path, sep='\\t')\n",
    "openings = pd.concat([openings_a, openings_b, openings_c, openings_d, openings_e])\n",
    "openings = openings.rename(columns={'eco':'ECO', 'name':'Opening'})\n",
    "del openings_a, openings_b, openings_c, openings_d, openings_e\n",
    "del openings_a_Path, openings_b_Path, openings_c_Path, openings_d_Path, openings_e_Path"
   ]
  },
  {
   "cell_type": "markdown",
   "id": "585dc70c-27bd-4825-b44e-b01a2fb4794b",
   "metadata": {},
   "source": [
    "SECTION 0.1 \n",
    "\n",
    "Functions"
   ]
  },
  {
   "cell_type": "code",
   "execution_count": null,
   "id": "602dae80-a107-40b5-91ac-07fdab6f1754",
   "metadata": {},
   "outputs": [],
   "source": [
    "#Function to Extract Every Nth Word of a string delimted by spaces starting at position M, up to N*O words.\n",
    "def extract_nth_words(text, M, N, O=None):\n",
    "    words = text.split()\n",
    "    if O is None:\n",
    "        endIndex = len(words)\n",
    "    else: \n",
    "        endIndex = min(M-1+N*O, len(words))\n",
    "    result = [words[i] for i in range(M - 1, endIndex, N)]\n",
    "    return ' '.join(result)"
   ]
  },
  {
   "cell_type": "code",
   "execution_count": null,
   "id": "b8790b3a-02c7-4b9d-ba3d-c7d76f8aeb2c",
   "metadata": {},
   "outputs": [],
   "source": [
    "#Function to return every ith element of a list that was saved as a string\n",
    "def get_ith_element(lst, i):\n",
    "    res = lst.strip('][').split(', ')\n",
    "    if len(res) >= i+1:\n",
    "        return res[i]\n",
    "    else:\n",
    "        return None"
   ]
  },
  {
   "cell_type": "code",
   "execution_count": null,
   "id": "677df4fb-b997-4382-b812-d99f458cf86a",
   "metadata": {},
   "outputs": [],
   "source": [
    "def summarize_columns(df, groupCols, prefixes, summaryStats):\n",
    "    grouped = df.groupby(groupCols)\n",
    "    summary_df = pd.DataFrame()\n",
    "\n",
    "    for prefix in prefixes:\n",
    "        for stat in summaryStats:\n",
    "            selectedCols = [col for col in df.columns if col.startswith(prefix)]\n",
    "            print(selectedCols)\n",
    "            print(stat)\n",
    "            print(summaryStats)\n",
    "            result = grouped[selectedCols].agg({stat: rf'{stat}'})\n",
    "            result.columns = [f'{prefix}_{col}_{stat}' for col in selectedCols]\n",
    "            summary_df = pd.concat([summary_df, result], axis=1)\n",
    "    summary_df = summary_df.reset_index()\n",
    "    \n",
    "    return summary_df"
   ]
  },
  {
   "cell_type": "markdown",
   "id": "11310a61-8746-49a0-961b-f6ad32af5996",
   "metadata": {},
   "source": [
    "\n",
    "Section 2\n",
    "\n",
    "Opening ECO Filtering"
   ]
  },
  {
   "cell_type": "code",
   "execution_count": null,
   "id": "753bfa6c-1e08-4eaf-a578-20114dff5e6a",
   "metadata": {},
   "outputs": [],
   "source": [
    "openingVariable = 'Opening'\n",
    "\n",
    "#Get key information from openings dataframe\n",
    "openings['moveNumbers'] = openings['pgn'].apply(lambda x: extract_nth_words(x, 1, 3))\n",
    "openings['whiteMoves'] = openings['pgn'].apply(lambda x: extract_nth_words(x, 2, 3))\n",
    "openings['blackMoves'] = openings['pgn'].apply(lambda x: extract_nth_words(x, 3, 3))\n",
    "openings['moveCount'] = openings['moveNumbers'].str.split().str.len()\n",
    "openings['halfMoveCount'] = openings['whiteMoves'].str.split().str.len() + openings['blackMoves'].str.split().str.len()  \n",
    "openings['white_black'] = openings['halfMoveCount'].apply(lambda x: 'black' if x % 2 == 0 else 'white') \n",
    "#Sort the Openings by their name and moves involved, only keep the minimal amount of moves to avoid complexity of mixed openings\n",
    "openings = openings.sort_values(by=[openingVariable, 'halfMoveCount'])\n",
    "openings = openings.drop_duplicates(subset='Opening', keep='first')\n",
    "\n",
    "#Only Working with white openings\n",
    "openings = openings[openings['white_black']=='white']"
   ]
  },
  {
   "cell_type": "code",
   "execution_count": null,
   "id": "028cc7fe-bf5f-41d6-9350-dd050c32b672",
   "metadata": {},
   "outputs": [],
   "source": [
    "#Extraction of opening structure\n",
    "openings[['Basis', 'lineVariation']] = openings['Opening'].str.split(': ', 1, expand=True)\n",
    "openings['Line'] = openings['lineVariation'].str.split(',').str[0]\n",
    "openings['Variation'] = openings['lineVariation'].str.split(',',1).str[-1]\n",
    "openings['Variation'] = np.where(openings['Variation']==openings['Line'], None, (openings['Variation'].str.strip()))\n",
    "openings = openings.drop(columns=['moveNumbers', 'whiteMoves' , 'blackMoves', 'lineVariation'])\n",
    "\n",
    "#Drop Variation games, too much granularity\n",
    "openings = openings[pd.isna(openings['Variation'])]"
   ]
  },
  {
   "cell_type": "markdown",
   "id": "f0d17135-0b90-4159-86aa-3e43fff2f90c",
   "metadata": {},
   "source": [
    "Section 3\n",
    "\n",
    "Aggregate Analysis of Openings and Players that use the openings"
   ]
  },
  {
   "cell_type": "code",
   "execution_count": null,
   "id": "8e766ebd-140f-49f1-8ef2-657757668cb1",
   "metadata": {},
   "outputs": [],
   "source": [
    "openingList = openings['Opening'].unique()\n",
    "\n",
    "#Adding opening information to chess games dataset\n",
    "allRatings = allRatings[allRatings['Opening'].isin(openingList)] # Added to help reduce memory stress of join\n",
    "allRatings = allRatings.merge(openings, on='Opening', how='inner')\n",
    "allRatings['openingPlayer'] = np.where(allRatings['white_black'] == 'black', allRatings['Black'], allRatings['White'])\n",
    "allRatings['openingPlayerRating'] = np.where(allRatings['white_black'] == 'black', allRatings['BlackElo'], allRatings['WhiteElo'])\n",
    "allRatings['whiteWin'] = np.where(allRatings['Result'].str.split('-').str[0] == '1', 1, 0)"
   ]
  },
  {
   "cell_type": "code",
   "execution_count": null,
   "id": "d57c132c-f248-4fd1-a266-27fabb5029c7",
   "metadata": {},
   "outputs": [],
   "source": [
    "#Analysis of Openings used in Lichess database\n",
    "openingsPlayed = allRatings.groupby(openingVariable).size().reset_index(name='timesPlayed')\n",
    "uniquePlayers = allRatings.groupby(openingVariable)['openingPlayer'].nunique().reset_index().rename(columns={'openingPlayer': 'uniquePlayers'})\n",
    "whiteWins = allRatings.groupby(openingVariable)['whiteWin'].sum().reset_index().rename(columns={'openingPlayer': 'wins'})\n",
    "openingAnalysis = openingsPlayed.merge(uniquePlayers, on=openingVariable)\n",
    "openingAnalysis = openingAnalysis.merge(whiteWins, on=openingVariable)\n",
    "openingAnalysis['useRatio'] = openingAnalysis['timesPlayed']/openingAnalysis['timesPlayed'].sum()\n",
    "openingAnalysis['openingPlayerDiversity'] =1-(openingAnalysis['timesPlayed']-openingAnalysis['uniquePlayers'])/openingAnalysis['timesPlayed']\n",
    "print(openingAnalysis.describe())"
   ]
  },
  {
   "cell_type": "code",
   "execution_count": null,
   "id": "eb695839-6fc8-42c8-913a-b985860e27a5",
   "metadata": {},
   "outputs": [],
   "source": [
    "#Opening Count Number Filter\n",
    "openingFilter = openingAnalysis[(openingAnalysis['timesPlayed']>=10) & (openingAnalysis['uniquePlayers']>100)].Opening.unique()\n",
    "allRatings = allRatings[allRatings['Opening'].isin(openingFilter)]"
   ]
  },
  {
   "cell_type": "code",
   "execution_count": null,
   "id": "99a29a02-e76d-4609-a80a-c49980cbf7b9",
   "metadata": {},
   "outputs": [],
   "source": [
    "#Analysis of Players used in Lichess database\n",
    "uniquePlayerOpenings = allRatings.groupby('openingPlayer')[openingVariable].nunique().reset_index().rename(columns={openingVariable: 'countPlayerOpening'})\n",
    "uniquePlayerGames = allRatings.groupby('openingPlayer').size().reset_index(name='countGames')\n",
    "playerAnalysis = uniquePlayerOpenings.merge(uniquePlayerGames, on='openingPlayer')\n",
    "playerAnalysis['openingsAsRatio'] =(playerAnalysis['countPlayerOpening'])/playerAnalysis['countGames']\n",
    "playerAnalysis['openingsUsedDivesity'] =1-(playerAnalysis['countGames']-playerAnalysis['countPlayerOpening'])/playerAnalysis['countGames']\n",
    "print(playerAnalysis.describe())"
   ]
  },
  {
   "cell_type": "code",
   "execution_count": null,
   "id": "6b7a76af-7b76-467b-a226-d23f4a69ceef",
   "metadata": {},
   "outputs": [],
   "source": [
    "#Games Player Filter\n",
    "playerFilter = playerAnalysis[(playerAnalysis['countPlayerOpening']>1) &\n",
    "                             (playerAnalysis['openingsAsRatio']!=1) &\n",
    "                             (playerAnalysis['countGames']>=10)].openingPlayer.unique()\n",
    "\n",
    "allRatings = allRatings[allRatings['openingPlayer'].isin(playerFilter)]"
   ]
  },
  {
   "cell_type": "markdown",
   "id": "5c6e95ca-c464-49b0-84d3-5bfad9bf3a0c",
   "metadata": {},
   "source": [
    "Section 3\n",
    "\n",
    "Creation of Openings Used Diversity variables to add to playerAnalysis"
   ]
  },
  {
   "cell_type": "code",
   "execution_count": null,
   "id": "2abd77c6-35cd-40ae-8181-01aba393dda2",
   "metadata": {},
   "outputs": [],
   "source": [
    "playerOpenings =  allRatings.groupby(['openingPlayer', openingVariable]).size().reset_index(name='openingUseCount')\n",
    "playerOpenings['whiteWin'] = allRatings.groupby(['openingPlayer', openingVariable])['whiteWin'].sum().reset_index(drop=True)\n",
    "playerOpenings['openingProbability'] = playerOpenings.groupby('openingPlayer')['openingUseCount'].apply(lambda x: x / float(x.sum()))\n",
    "playerOpenings['openingWinProbability'] = playerOpenings.groupby('openingPlayer')['whiteWin'].apply(lambda x: x / float(x.sum()))"
   ]
  },
  {
   "cell_type": "code",
   "execution_count": null,
   "id": "917d1fd0-db24-4bda-8113-92d4a05076dd",
   "metadata": {},
   "outputs": [],
   "source": [
    "# Calculate Gini coefficient for each player\n",
    "playGini = playerOpenings.groupby('openingPlayer').apply(lambda x: 1 - np.sum(x['openingProbability']**2))\n",
    "# Calculate Entropy Index for each player\n",
    "playEntropy = playerOpenings.groupby('openingPlayer').apply(lambda x: stats.entropy(x['openingProbability']))\n",
    "# Calculate Gini coefficient for each player\n",
    "winGini = playerOpenings.groupby('openingPlayer').apply(lambda x: 1 - np.sum(x['openingWinProbability']**2))\n",
    "# Calculate Entropy Index for each player\n",
    "winEntropy = playerOpenings.groupby('openingPlayer').apply(lambda x: stats.entropy(x['openingWinProbability']))"
   ]
  },
  {
   "cell_type": "code",
   "execution_count": null,
   "id": "2c849a5b-e9a8-45b6-b9cc-996970daa43f",
   "metadata": {},
   "outputs": [],
   "source": [
    "# Combine results into a DataFrame\n",
    "diversity = pd.DataFrame({\n",
    "    #'entropy': entropy,\n",
    "    'playGini': playGini,\n",
    "    #'concentrationIndex': concentrationIndex,\n",
    "    'playEntropy': playEntropy,\n",
    "    'winGini': winGini,\n",
    "    #'concentrationIndex': concentrationIndex,\n",
    "    'winEntropy': winEntropy\n",
    "}).reset_index()\n",
    "\n",
    "playerAnalysis = playerAnalysis.merge(diversity, on='openingPlayer', how='left')"
   ]
  },
  {
   "cell_type": "markdown",
   "id": "509bfa75-8267-4454-a8bd-8359a242f815",
   "metadata": {},
   "source": [
    "Section 4\n",
    "\n",
    "Merging of Games, Player Analysis, Opening Analysis and Diversity Data\n",
    "\n",
    "Filtering Games by openings played and how diverse they played\n"
   ]
  },
  {
   "cell_type": "code",
   "execution_count": null,
   "id": "e4621b41-7fa0-4704-be65-c0d5104350a1",
   "metadata": {},
   "outputs": [],
   "source": [
    "allRatingsExp = allRatings.merge(openingAnalysis, on= openingVariable, how='left')\n",
    "allRatingsExp = allRatingsExp.merge(playerAnalysis, on='openingPlayer', how='left')"
   ]
  },
  {
   "cell_type": "code",
   "execution_count": null,
   "id": "5b701edf-e646-4b8a-8b02-473bc9f34946",
   "metadata": {},
   "outputs": [],
   "source": [
    "whiteElo = allRatingsExp[['White','WhiteElo']].rename(columns={'White':'openingPlayer', 'WhiteElo':'ELO'})\n",
    "blackElo = allRatingsExp[['Black','BlackElo']].rename(columns={'Black':'openingPlayer', 'BlackElo':'ELO'})"
   ]
  },
  {
   "cell_type": "code",
   "execution_count": null,
   "id": "6e06925a-7f85-4369-a1ed-3faebc555fb6",
   "metadata": {},
   "outputs": [],
   "source": [
    "playerRatingsBoth = pd.concat([whiteElo,blackElo])\n",
    "playerRatings = playerRatingsBoth.groupby('openingPlayer')['ELO'].mean().reset_index(name='ELO')\n",
    "playerRatings = playerRatings.merge(playerAnalysis, on='openingPlayer', how='left')\n",
    "playerRatings = playerRatings.dropna(subset=['openingPlayer'])\n",
    "playerRatings = playerRatings[playerRatings['openingPlayer'].isin(playerFilter)]"
   ]
  },
  {
   "cell_type": "code",
   "execution_count": null,
   "id": "8e2eb25b-5421-419a-b6ff-3b44d5947c2d",
   "metadata": {},
   "outputs": [],
   "source": [
    "playerRatings.to_csv(rf\"{csvFolder}\\playerRatings_diversity.tsv\", sep='\\t')\n",
    "allRatings.to_csv(rf\"{csvFolder}\\lichess_games_filtered.tsv\", sep='\\t')"
   ]
  },
  {
   "cell_type": "code",
   "execution_count": null,
   "id": "63718a6f-455e-49f3-9627-60a466e60c33",
   "metadata": {},
   "outputs": [],
   "source": [
    "allRatings = allRatings.merge(playerRatings[['openingPlayer', 'ELO']], on='openingPlayer', how='left')"
   ]
  },
  {
   "cell_type": "markdown",
   "id": "1ee2c67f-1785-4f36-8f21-403a80d76f27",
   "metadata": {},
   "source": [
    "Section 5\n",
    "\n",
    "Clustering Tests - Diversity in player opening Selection\n"
   ]
  },
  {
   "cell_type": "code",
   "execution_count": null,
   "id": "24de8893-fe5a-4288-bed4-08580056ab31",
   "metadata": {},
   "outputs": [],
   "source": [
    "playerRatings['bins'] = pd.qcut(playerRatings['ELO'], q=3, labels=False)\n",
    "allRatings = allRatings.merge(playerRatings[['openingPlayer', 'bins']], on='openingPlayer', how='left')"
   ]
  },
  {
   "cell_type": "code",
   "execution_count": null,
   "id": "ee0037f6-55ce-4899-b20b-21065533dcc6",
   "metadata": {},
   "outputs": [],
   "source": [
    "# Normalize or standardize the features\n",
    "selected_columns = ['ELO', 'playGini', 'playEntropy']\n",
    "\n",
    "scaler = MinMaxScaler()\n",
    "playerRatingsT = pd.DataFrame()\n",
    "playerRatingsT[selected_columns] = scaler.fit_transform(playerRatings[selected_columns])"
   ]
  },
  {
   "cell_type": "code",
   "execution_count": null,
   "id": "43520879-3eb7-4cd7-902a-8c8c6b60781b",
   "metadata": {},
   "outputs": [],
   "source": [
    "# Combine features into a single feature matrix\n",
    "X = playerRatingsT[selected_columns]\n",
    "\n",
    "# Determine the optimal number of clusters (e.g., using the Elbow Method)\n",
    "cluster_range =range(1, 11)\n",
    "silhouette_scores1 = []\n",
    "silhouette_clusters1 = []\n",
    "\n",
    "sse_scores1 = []\n",
    "sse_clusters1 = []\n",
    "for num_clusters in cluster_range:\n",
    "    print(f\"Start Cluster: {num_clusters}\")\n",
    "    kmeans = KMeans(n_clusters=num_clusters, random_state=123)\n",
    "    cluster_labels = kmeans.fit_predict(X)\n",
    "    \n",
    "    # Calculate the Sum of Squared Errors (SSE) for the elbow method\n",
    "    sse = kmeans.inertia_\n",
    "    sse_scores1.append(sse)\n",
    "    sse_clusters1.append(num_clusters)\n",
    "    \n",
    "    if num_clusters>=2:\n",
    "        # Calculate the silhouette score\n",
    "        silhouette_avg = silhouette_score(X, cluster_labels)\n",
    "        silhouette_scores1.append(silhouette_avg)\n",
    "        silhouette_clusters1.append(num_clusters)"
   ]
  },
  {
   "cell_type": "code",
   "execution_count": null,
   "id": "7b651e1f-0c04-4b60-8649-6e7cad24ed45",
   "metadata": {},
   "outputs": [],
   "source": [
    "# Plot WCSS (Elbow Method) on the left Y-axis\n",
    "fig, ax1 = plt.subplots(figsize=(10, 6), dpi=600)\n",
    "ax1.plot(sse_clusters1, sse_scores1, marker='o', label='WCSS')\n",
    "ax1.set_xlabel('Number of Clusters')\n",
    "ax1.set_ylabel('WCSS')\n",
    "#ax1.set_title('Elbow Method and Silhouette Score for Optimal Number of Clusters')\n",
    "\n",
    "# Create a twin Y-axis on the right for Silhouette Score\n",
    "ax2 = ax1.twinx()\n",
    "ax2.plot(silhouette_clusters1, silhouette_scores1, marker='o', label='Silhouette Score', color='orange')\n",
    "ax2.set_ylabel('Silhouette Score')\n",
    "\n",
    "# Add legend\n",
    "lines1, labels1 = ax1.get_legend_handles_labels()\n",
    "lines2, labels2 = ax2.get_legend_handles_labels()\n",
    "ax1.legend(lines1 + lines2, labels1 + labels2, loc=\"upper right\")\n",
    "\n",
    "# Show the plot\n",
    "plt.grid(True)\n",
    "plt.show()"
   ]
  },
  {
   "cell_type": "code",
   "execution_count": null,
   "id": "7832702a-d4d7-4b0f-a7e2-696237104420",
   "metadata": {},
   "outputs": [],
   "source": [
    "# Perform K-means clustering with the chosen number of clusters\n",
    "optimal_num_clusters = 3 # Adjust this based on your analysis\n",
    "kmeans = KMeans(n_clusters=optimal_num_clusters)\n",
    "playerRatingsT['Cluster'] = kmeans.fit_predict(X)\n",
    "\n",
    "cluster_means = playerRatingsT.groupby('Cluster')[selected_columns].mean().reset_index()\n",
    "cluster_means_sorted = cluster_means.sort_values(by=selected_columns[0], ascending=True)  # Replace 'Rating' with the desired feature\n",
    "cluster_mapping = {old_label: new_label for new_label, old_label in enumerate(cluster_means_sorted['Cluster'])}\n",
    "playerRatings['Cluster'] = playerRatingsT['Cluster'].map(cluster_mapping)\n",
    "\n",
    "playerRatings.to_csv(rf\"{csvFolder}\\playerRatings_Cluster.tsv\", sep='\\t')\n",
    "# Analyze the clusters and divisions in ratings and diversity in openings\n",
    "cluster_centers = kmeans.cluster_centers_\n",
    "print(\"Cluster Centers:\")\n",
    "print(cluster_centers)"
   ]
  },
  {
   "cell_type": "code",
   "execution_count": null,
   "id": "37f556d7-4e7f-411d-9797-15ad6770d2d7",
   "metadata": {},
   "outputs": [],
   "source": [
    "sns.scatterplot(data =playerRatings, x=selected_columns[0], y= selected_columns[1], hue = 'Cluster', alpha=0.25 , palette='colorblind')\n",
    "plt.show()"
   ]
  },
  {
   "cell_type": "code",
   "execution_count": null,
   "id": "f612108a-4164-4909-a1b8-31d3fb339b3f",
   "metadata": {},
   "outputs": [],
   "source": [
    "fig, axes = plt.subplots(1,1, figsize=(10, 6), dpi=600)\n",
    "fig1 = sns.histplot(data=playerRatings, \n",
    "             x=selected_columns[0], \n",
    "             hue='Cluster', \n",
    "             bins=100, \n",
    "             kde=True, \n",
    "             stat=\"density\", \n",
    "             palette='colorblind',\n",
    "             multiple='layer',\n",
    "             common_norm=False,\n",
    "             fill=True,\n",
    "             alpha=0.25)\n",
    "plt.show()"
   ]
  },
  {
   "cell_type": "code",
   "execution_count": null,
   "id": "7f939a31-6a94-4040-9ca8-4bf9037cac75",
   "metadata": {},
   "outputs": [],
   "source": [
    "fig, axes = plt.subplots(1,1, figsize=(10, 6), dpi=600)\n",
    "fig2 = sns.histplot(data=playerRatings, \n",
    "             x=selected_columns[1], \n",
    "             hue='Cluster', \n",
    "             bins=100, \n",
    "             kde=True, \n",
    "             stat=\"density\", \n",
    "             palette='colorblind',\n",
    "             multiple='layer',\n",
    "             common_norm=False,\n",
    "             fill=True,\n",
    "             alpha=0.25)\n",
    "plt.show()"
   ]
  },
  {
   "cell_type": "code",
   "execution_count": null,
   "id": "7375dc29-b69f-4a62-b1d5-01d50278046e",
   "metadata": {},
   "outputs": [],
   "source": [
    "fig, axes = plt.subplots(1,1, figsize=(10, 6), dpi=600)\n",
    "fig3 = sns.histplot(data=playerRatings, \n",
    "             x='ELO', \n",
    "             hue='Cluster', \n",
    "             bins=100, \n",
    "             kde=True, \n",
    "            # stat=\"density\",\n",
    "             palette='colorblind',\n",
    "             multiple='layer',\n",
    "             common_norm=False,\n",
    "             fill=True,\n",
    "             alpha=0.25)\n",
    "plt.show()"
   ]
  },
  {
   "cell_type": "code",
   "execution_count": null,
   "id": "edca2bd2-c2ec-4d9f-9daf-b80c9f96c10e",
   "metadata": {},
   "outputs": [],
   "source": [
    "ax1.get_figure().savefig(rf\"{outputFolder}\\exploration_diversityElbows.png\", bbox_inches=\"tight\")\n",
    "fig1.get_figure().savefig(rf\"{outputFolder}\\exploration_gini3Cluster.png\", bbox_inches=\"tight\")\n",
    "fig2.get_figure().savefig(rf\"{outputFolder}\\exploration_entropy3Cluster.png\", bbox_inches=\"tight\")\n",
    "fig3.get_figure().savefig(rf\"{outputFolder}\\exploration_ELO3Cluster.png\", bbox_inches=\"tight\")"
   ]
  },
  {
   "cell_type": "markdown",
   "id": "350e4a91-a45a-49b6-846e-a9915be0606d",
   "metadata": {},
   "source": [
    "\n",
    "Section 6\n",
    "\n",
    "Clustering Tests - Diversity in player opening populations\n"
   ]
  },
  {
   "cell_type": "code",
   "execution_count": null,
   "id": "82f55797-f315-45f9-b9a6-372ddcd9a01c",
   "metadata": {},
   "outputs": [],
   "source": [
    "from scipy.stats import chi2_contingency\n",
    "\n",
    "playerOpenings_cont = playerOpenings.merge(playerRatings[['openingPlayer', 'bins']], on='openingPlayer', how='left')\n",
    "\n",
    "# Create a contingency table of openings vs. players with counts\n",
    "contingency_table = pd.crosstab(playerOpenings_cont['bins'], playerOpenings_cont[openingVariable])\n",
    "\n",
    "# Perform the Chi-Square Test for Independence\n",
    "chi2, p, dof, expected = chi2_contingency(contingency_table)\n",
    "\n",
    "# Check the p-value to determine if the association is significant\n",
    "if p < 0.05:\n",
    "    print(\"There is a significant association between player decisions and openings.\")\n",
    "else:\n",
    "    print(\"There is no significant association between player decisions and openings.\")\n",
    "\n",
    "# Display the expected frequencies\n",
    "expected_df = pd.DataFrame(expected, index=contingency_table.index, columns=contingency_table.columns)\n",
    "print(\"\\nExpected Frequencies:\")\n",
    "print(expected_df)"
   ]
  },
  {
   "cell_type": "markdown",
   "id": "a0caf7ae-ce20-4960-95ee-ffd056e18f15",
   "metadata": {},
   "source": [
    "Section 6\n",
    "\n",
    "Clustering Tests - Diversity in player opening populations\n"
   ]
  },
  {
   "cell_type": "code",
   "execution_count": null,
   "id": "7e08360d-c734-4861-8b8a-d9a20b414fca",
   "metadata": {},
   "outputs": [],
   "source": [
    "modelTest_df = allRatings[[openingVariable, 'ELO', 'openingPlayer']]\n",
    "df = modelTest_df\n",
    "df=df.sort_values(by=['ELO'])\n",
    "pivot_df = df.pivot_table(index=['openingPlayer', 'ELO'], columns=openingVariable, aggfunc='size', fill_value=0).reset_index()\n",
    "sample_df =pivot_df"
   ]
  },
  {
   "cell_type": "code",
   "execution_count": null,
   "id": "eef440c8-cae4-448d-9050-56171c448f19",
   "metadata": {},
   "outputs": [],
   "source": [
    "sample_df=sample_df.drop(columns='openingPlayer')\n",
    "mmscaler = MinMaxScaler(feature_range = (0,1), copy = False).fit(sample_df) \n",
    "sample_scaler = mmscaler.transform(sample_df)\n",
    "sample_scaler = pd.DataFrame(sample_scaler, columns = sample_df.columns)"
   ]
  },
  {
   "cell_type": "code",
   "execution_count": null,
   "id": "1fd6b260-cfdc-48ee-957b-daa3fc544e0f",
   "metadata": {},
   "outputs": [],
   "source": [
    "cluster_range = range(1, 11)  # Adjust as needed"
   ]
  },
  {
   "cell_type": "code",
   "execution_count": null,
   "id": "6d26ab48-9d02-4ad4-85ba-08b05e0d9283",
   "metadata": {},
   "outputs": [],
   "source": [
    "silhouette_scores2 = []\n",
    "silhouette_clusters2 = []\n",
    "\n",
    "sse_scores2 = []\n",
    "sse_clusters2 = []\n",
    "# Iterate through different cluster numbers\n",
    "for num_clusters in cluster_range:\n",
    "    print(f\"Start Cluster: {num_clusters}\")\n",
    "    kmeans = KMeans(n_clusters=num_clusters, random_state=123)\n",
    "    cluster_labels = kmeans.fit_predict(sample_scaler)\n",
    "    \n",
    "    # Calculate the Sum of Squared Errors (SSE) for the elbow method\n",
    "    sse = kmeans.inertia_\n",
    "    sse_scores2.append(sse)\n",
    "    sse_clusters2.append(num_clusters)\n",
    "    \n",
    "    if num_clusters>=2:\n",
    "        # Calculate the silhouette score\n",
    "        silhouette_avg = silhouette_score(sample_scaler, cluster_labels)\n",
    "        silhouette_scores2.append(silhouette_avg)\n",
    "        silhouette_clusters2.append(num_clusters)"
   ]
  },
  {
   "cell_type": "code",
   "execution_count": null,
   "id": "c3a110f4-7bd4-47f9-a211-3c037af4d5af",
   "metadata": {},
   "outputs": [],
   "source": [
    "import pickle\n",
    "\n",
    "# It is important to use binary access\n",
    "with open(rf\"{outputFolder}\\km.pickle\", 'wb') as f:\n",
    "    pickle.dump(kmeans, f) "
   ]
  },
  {
   "cell_type": "code",
   "execution_count": null,
   "id": "64f844c6-dc8a-4311-8a82-e4bb067255f7",
   "metadata": {},
   "outputs": [],
   "source": [
    "# Plot WCSS (Elbow Method) on the left Y-axis\n",
    "fig5, ax3 = plt.subplots(figsize=(10, 6), dpi=600)\n",
    "ax3.plot(sse_clusters2, sse_scores2, marker='o', label='WCSS')\n",
    "ax3.set_xlabel('Number of Clusters')\n",
    "ax3.set_ylabel('WCSS')\n",
    "#ax1.set_title('Elbow Method and Silhouette Score for Optimal Number of Clusters')\n",
    "\n",
    "# Create a twin Y-axis on the right for Silhouette Score\n",
    "ax4 = ax3.twinx()\n",
    "ax4.plot(silhouette_clusters2, silhouette_scores2, marker='o', label='Silhouette Score', color='orange')\n",
    "ax4.set_ylabel('Silhouette Score')\n",
    "\n",
    "# Add legend\n",
    "lines3, labels3 = ax3.get_legend_handles_labels()\n",
    "lines4, labels4 = ax4.get_legend_handles_labels()\n",
    "ax3.legend(lines3 + lines4, labels3 + labels4, loc=\"upper right\")\n",
    "\n",
    "# Show the plot\n",
    "plt.grid(True)\n",
    "plt.show()"
   ]
  },
  {
   "cell_type": "code",
   "execution_count": null,
   "id": "9d6cbf40-6ba1-4774-bffc-dcd3660ef82b",
   "metadata": {},
   "outputs": [],
   "source": [
    "# Perform K-means clustering with the chosen number of clusters\n",
    "optimal_num_clusters = 3 # Adjust this based on your analysis\n",
    "kmeans = KMeans(n_clusters=optimal_num_clusters)\n",
    "sample_scaler['Cluster_openings'] = kmeans.fit_predict(sample_scaler)\n",
    "sample_df['Cluster_openings'] = sample_scaler['Cluster_openings']"
   ]
  },
  {
   "cell_type": "code",
   "execution_count": null,
   "id": "07358ac1-7aac-4719-9c97-e46d118126f9",
   "metadata": {},
   "outputs": [],
   "source": [
    "cluster_means = sample_scaler.groupby('Cluster_openings')['ELO'].mean().reset_index()\n",
    "cluster_means_sorted = cluster_means.sort_values(by='ELO', ascending=True)  # Replace 'Rating' with the desired feature\n",
    "cluster_mapping = {old_label: new_label for new_label, old_label in enumerate(cluster_means_sorted['Cluster_openings'])}\n",
    "sample_scaler['Cluster_openings'] = sample_scaler['Cluster_openings'].map(cluster_mapping)\n",
    "pivot_df['Cluster_openings']=sample_scaler['Cluster_openings']\n",
    "sample_df['Cluster_openings']=sample_scaler['Cluster_openings']"
   ]
  },
  {
   "cell_type": "code",
   "execution_count": null,
   "id": "aea78460-1330-42b2-874d-9ffc35a367c4",
   "metadata": {},
   "outputs": [],
   "source": [
    "fig6, ax6 = plt.subplots(figsize=(10, 6), dpi=600)\n",
    "fig6 = sns.histplot(data=pivot_df, \n",
    "             x='ELO', \n",
    "             hue='Cluster_openings', \n",
    "             bins=100, \n",
    "             kde=True, \n",
    "            # stat=\"density\",\n",
    "             palette='colorblind',\n",
    "             multiple='stack',\n",
    "             common_norm=False,\n",
    "             fill=True,\n",
    "             alpha=0.25)\n",
    "plt.show()"
   ]
  },
  {
   "cell_type": "code",
   "execution_count": null,
   "id": "a2081d2d-065b-40c9-a4b4-d34a2e29fef8",
   "metadata": {},
   "outputs": [],
   "source": [
    "fig7, ax7 = plt.subplots(figsize=(10, 6), dpi=600)\n",
    "fig7 = sns.histplot(data=sample_df, \n",
    "             x='ELO', \n",
    "             hue='Cluster_openings', \n",
    "             bins=100, \n",
    "             kde=True, \n",
    "            # stat=\"density\",\n",
    "             palette='colorblind',\n",
    "             multiple='layer',\n",
    "             common_norm=False,\n",
    "             fill=True,\n",
    "             alpha=0.25)\n",
    "plt.show()"
   ]
  },
  {
   "cell_type": "code",
   "execution_count": null,
   "id": "41eee8b4-5dd5-4d47-ae5d-ce9afe5951c4",
   "metadata": {},
   "outputs": [],
   "source": [
    "fig5.get_figure().savefig(rf\"{outputFolder}\\exploration_cluster_openings_elbow.png\", bbox_inches=\"tight\")\n",
    "fig6.get_figure().savefig(rf\"{outputFolder}\\exploration_cluster_openings_stack.png\", bbox_inches=\"tight\")\n",
    "fig7.get_figure().savefig(rf\"{outputFolder}\\exploration_cluster_openings_layer.png\", bbox_inches=\"tight\")"
   ]
  },
  {
   "cell_type": "code",
   "execution_count": null,
   "id": "f598a5b6-7209-4130-83ec-71f8692fa0cd",
   "metadata": {},
   "outputs": [],
   "source": [
    "allRatings = allRatings.merge(playerRatings[['openingPlayer', 'Cluster']], on='openingPlayer', how='left')\n",
    "\n",
    "allRatings.to_csv(rf\"{csvFolder}\\allRatings.tsv\", sep='\\t')\n",
    "playerRatings.to_csv(rf\"{csvFolder}\\playerRatings_CLUSTER.tsv\", sep='\\t')\n",
    "openingAnalysis.to_csv(rf\"{csvFolder}\\openingAnalysis.tsv\", sep='\\t')\n",
    "pivot_df[['ELO', 'openingPlayer', 'Cluster_openings']].to_csv(rf\"{csvFolder}\\playerOpenings_CLUSTER.tsv\", sep='\\t')\n",
    "playerOpenings.to_csv(rf\"{csvFolder}\\playerOpenings.tsv\", sep='\\t')"
   ]
  }
 ],
 "metadata": {
  "kernelspec": {
   "display_name": "Python 3 (ipykernel)",
   "language": "python",
   "name": "python3"
  },
  "language_info": {
   "codemirror_mode": {
    "name": "ipython",
    "version": 3
   },
   "file_extension": ".py",
   "mimetype": "text/x-python",
   "name": "python",
   "nbconvert_exporter": "python",
   "pygments_lexer": "ipython3",
   "version": "3.9.13"
  }
 },
 "nbformat": 4,
 "nbformat_minor": 5
}
