{
 "cells": [
  {
   "cell_type": "markdown",
   "id": "65d7b119-fd36-473b-806c-caa2167fd573",
   "metadata": {
    "tags": []
   },
   "source": [
    "# Recommendation System for Varying Metrics and Clusters"
   ]
  },
  {
   "cell_type": "code",
   "execution_count": null,
   "id": "0330f14a-45b0-426d-92d2-9308c3431a69",
   "metadata": {},
   "outputs": [],
   "source": [
    "import io\n",
    "import ast\n",
    "import chess\n",
    "import chess.pgn\n",
    "import re\n",
    "import pandas as pd\n",
    "import numpy as np\n",
    "import seaborn as sns\n",
    "import matplotlib.pyplot as plt\n",
    "from pathlib import Path\n",
    "\n",
    "from scipy.sparse import csr_matrix\n",
    "from sklearn.model_selection import train_test_split\n",
    "from sklearn.linear_model import LinearRegression\n",
    "from sklearn.linear_model import Lasso\n",
    "from sklearn.metrics import mean_squared_error, r2_score\n",
    "from sklearn.preprocessing import MinMaxScaler"
   ]
  },
  {
   "cell_type": "markdown",
   "id": "6244dbd7-2640-49f3-8d55-8b214a33758c",
   "metadata": {},
   "source": [
    "Section 0\n",
    "\n",
    "Imports"
   ]
  },
  {
   "cell_type": "code",
   "execution_count": null,
   "id": "6ba899b1-a53d-4eac-81cf-1bc51df2335f",
   "metadata": {},
   "outputs": [],
   "source": [
    "stockfish_Path = Path(r\"C:\\Users\\cianw\\Chess Engines\\Latest\\stockfish-windows-x86-64-avx2\\stockfish\\stockfish-windows-x86-64-avx2.exe\")\n",
    "lc0_Path = Path(r\"C:\\Users\\cianw\\Chess Engines\\Latest\\lc0-v0.30.0-windows-gpu-nvidia-cuda\\lc0.exe\")\n",
    " \n",
    "pgnFolder = r\"E:\\ChessData\"\n",
    "csvFolder = r\"E:\\ChessData\\explorationOutputs\"\n",
    "csvAllRatingFolder = r\"E:\\ChessData\\explorationOutputs\"\n",
    "outputFolder = r\"C:\\Users\\cianw\\Documents\\dataAnalytics\\projectFinal\\figureOutputs\"\n",
    "\n",
    "inDataGames_Name = \"allRatings\"\n",
    "inDataOpening_Name = 'openingAnalysis'\n",
    "inDataPlayerOpenings_Name = 'playerOpenings'\n",
    "inDataPlayerOpeningsClusters_Name = 'playerOpenings_CLUSTER'\n",
    "inDataPlayerRatingsClusters_Name = 'playerRatings_CLUSTER'\n",
    "engineAnalysis_Name = 'allRatings_output_20230918'\n",
    "\n",
    "games_PATH = Path(rf\"{csvFolder}\\{inDataGames_Name}.tsv\")\n",
    "openingAnalysis_PATH = Path(rf\"{csvFolder}\\{inDataOpening_Name}.tsv\")\n",
    "playerOpenings_PATH = Path(rf\"{csvFolder}\\{inDataPlayerOpenings_Name}.tsv\")\n",
    "playerOpeningsClusters_PATH = Path(rf\"{csvFolder}\\{inDataPlayerOpeningsClusters_Name}.tsv\")\n",
    "playerRatingsClusters_PATH = Path(rf\"{csvFolder}\\{inDataPlayerRatingsClusters_Name}.tsv\")\n",
    "engineAnalysis_path = Path(rf\"{csvFolder}\\{engineAnalysis_Name}.tsv\")"
   ]
  },
  {
   "cell_type": "code",
   "execution_count": null,
   "id": "925d926a-821f-4210-beac-baacedc696e8",
   "metadata": {},
   "outputs": [],
   "source": [
    "games_exploration = pd.read_csv(games_PATH, sep='\\t')\n",
    "games_exploration['UTC_dateTime'] = pd.to_datetime(games_exploration['UTCDate'] + ' ' + games_exploration['UTCTime'])\n",
    "games_exploration.describe()\n",
    "\n",
    "openingAnalysis = pd.read_csv(openingAnalysis_PATH, sep='\\t')\n",
    "openingAnalysis.describe()\n",
    "\n",
    "playerOpenings = pd.read_csv(playerOpenings_PATH, sep='\\t')\n",
    "playerOpenings.describe()\n",
    "\n",
    "playerOpeningsClusters = pd.read_csv(playerOpeningsClusters_PATH, sep='\\t')\n",
    "playerOpeningsClusters.describe()\n",
    "\n",
    "playerRatingsClusters = pd.read_csv(playerRatingsClusters_PATH, sep='\\t')\n",
    "playerRatingsClusters.describe()\n",
    "\n",
    "engineAnalysis = pd.read_csv(engineAnalysis_path, sep='\\t')\n",
    "engineAnalysis.describe()"
   ]
  },
  {
   "cell_type": "markdown",
   "id": "4b8289ba-451d-48ac-af20-60b81415dbf6",
   "metadata": {},
   "source": [
    "Section 1\n",
    "\n",
    "Functions\n"
   ]
  },
  {
   "cell_type": "code",
   "execution_count": null,
   "id": "5bdf402b-7718-43a5-b60d-6b2b7c685154",
   "metadata": {},
   "outputs": [],
   "source": [
    "#Function to Extract Every Nth Word of a string delimted by spaces starting at position M, up to N*O words.\n",
    "def extract_nth_words(text, M, N, O=None):\n",
    "    words = text.strip().split(' ')\n",
    "    if O is None:\n",
    "        endIndex = len(words)\n",
    "    else: \n",
    "        endIndex = min(M-1+N*O, len(words))\n",
    "    result = [words[i] for i in range(M - 1, endIndex, N)]\n",
    "    return ' '.join(result)"
   ]
  },
  {
   "cell_type": "code",
   "execution_count": null,
   "id": "63dbfd14-f2d7-4f3f-b51d-e4d7beba5e66",
   "metadata": {},
   "outputs": [],
   "source": [
    "def remove_moves(row, moves):\n",
    "    # Split the whiteMoves string into a list of moves\n",
    "    moves = row[moves].split()\n",
    "    # Determine the number of moves to remove based on 'removeMoves' value\n",
    "    num_moves_to_remove = row['removeMoves']\n",
    "    # Remove the specified number of moves\n",
    "    updated_moves = moves[num_moves_to_remove:]\n",
    "    # Join the updated moves back into a single string\n",
    "    return ' '.join(updated_moves)"
   ]
  },
  {
   "cell_type": "code",
   "execution_count": null,
   "id": "5bb8d070-8f26-4e1c-965d-034e4baae346",
   "metadata": {},
   "outputs": [],
   "source": [
    "#Function to return every ith element of a list that was saved as a string\n",
    "def get_ith_element(lst, i):\n",
    "    res = lst.strip('][').split(', ')\n",
    "    if len(res) >= i+1:\n",
    "        return res[i]\n",
    "    else:\n",
    "        return None"
   ]
  },
  {
   "cell_type": "code",
   "execution_count": null,
   "id": "36b6932c-4e77-4f78-a4ee-e80f4e83f595",
   "metadata": {},
   "outputs": [],
   "source": [
    "def get_final_fen(pgn):\n",
    "    bongCloudPosition = io.StringIO(pgn)\n",
    "    game = chess.pgn.read_game(bongCloudPosition)\n",
    "    board = game.board()\n",
    "    for move in game.mainline_moves():\n",
    "        board.push(move)\n",
    "    return board.fen()"
   ]
  },
  {
   "cell_type": "code",
   "execution_count": null,
   "id": "69909640-13f8-4748-870e-b90f561b87d2",
   "metadata": {},
   "outputs": [],
   "source": [
    "def extract_features(pgn, X, Y):    # Initialize a dictionary to store the features\n",
    "    features = {\n",
    "        'pawn_moves': 0,\n",
    "        'center_pawns': 0,\n",
    "        'flank_pawns':0,\n",
    "        'piece_moves': 0,\n",
    "        'developed_pieces': 0,\n",
    "        'center_pieces': 0,\n",
    "        'minor_moves': 0,\n",
    "        'queen_moves': 0,\n",
    "        'queen_retreat': 0,\n",
    "        'king_moves': 0,\n",
    "        'king_forward': 0,\n",
    "        'minor_retreat':0,\n",
    "        'castles': 0,\n",
    "        'checks': 0,\n",
    "        'captures': 0\n",
    "    }\n",
    "\n",
    "    moves = pgn.split()\n",
    "\n",
    "    # Extract moves within the specified range [X, Y]\n",
    "    moves = moves[X:(Y+X)]\n",
    "    movesPlayed = len(moves)\n",
    "\n",
    "    for move in moves:\n",
    "        # Ignore move numbers\n",
    "        if '.' not in move:\n",
    "            # Count pawn moves (e.g., e4, d5)\n",
    "            if re.match('^[a-h][1-8]$', move):\n",
    "                features['pawn_moves'] += (1/movesPlayed)\n",
    "                # Count center pawns\n",
    "                if re.match('^[de][45]$', move):\n",
    "                    features['center_pawns'] += (1/movesPlayed)\n",
    "                if re.match('^[ah][1-8]$', move):\n",
    "                    features['flank_pawns'] += (1/movesPlayed)\n",
    "            # Count piece moves (e.g., Nf3, Bb5)\n",
    "            if re.match('^[NBRQK][a-h][1-8]$', move):\n",
    "                features['piece_moves'] += (1/movesPlayed)\n",
    "                # Count developed pieces\n",
    "                if re.match('^[NBR][a-h][2-8]$', move):\n",
    "                    features['developed_pieces'] += (1/movesPlayed)\n",
    "                #Count Minor Retreat\n",
    "                if re.match('^[NBR][a-h][1]$', move):\n",
    "                    features['minor_retreat'] += (1/movesPlayed)\n",
    "                # Count center pieces\n",
    "                if re.match('^[NBRQK][de][45]$', move):\n",
    "                    features['center_pieces'] += (1/movesPlayed)\n",
    "                # Count Minor Piece Moves\n",
    "                if re.match('^[NBR][a-h][1-8]$', move):\n",
    "                    features['minor_moves'] += (1/movesPlayed)\n",
    "                # Count Queen Moves\n",
    "                if re.match('^[Q][a-h][2-8]$', move):\n",
    "                    features['queen_moves'] += (1/movesPlayed)\n",
    "                # Count Queen retreat\n",
    "                if re.match('^[Q][a-h][1]$', move):\n",
    "                    features['queen_retreat'] += (1/movesPlayed)\n",
    "                # Count King Moves\n",
    "                if re.match('^[K][a-h][1]$', move):\n",
    "                    features['king_moves'] += (1/movesPlayed)    \n",
    "                # Count King Forward\n",
    "                if re.match('^[K][a-h][2-8]$', move):\n",
    "                    features['king_forward'] += (1/movesPlayed)   \n",
    "            # Count castling moves (O-O or O-O-O)\n",
    "            if 'O-O' in move:\n",
    "                features['castles'] += (1/movesPlayed)\n",
    "            # Count checks (+)\n",
    "            if '+' in move:\n",
    "                features['checks'] += (1/movesPlayed)\n",
    "            # Count captures (x)\n",
    "            if 'x' in move:\n",
    "                features['captures'] += (1/movesPlayed)\n",
    "    return features"
   ]
  },
  {
   "cell_type": "code",
   "execution_count": null,
   "id": "68ea5473-340d-43c7-812e-3c64d2f1e602",
   "metadata": {},
   "outputs": [],
   "source": [
    "def knn_recommender_multi(df, players, opening_var, player_var, ranking_var, interaction_table, playerOpenings, nrecs):\n",
    "    print(\"Start Cluster Process\")\n",
    "    interaction_matrix = csr_matrix(interaction_table.values)\n",
    "    model_knn = NearestNeighbors(metric = 'cosine', algorithm = 'brute')\n",
    "    model_knn.fit(interaction_matrix)\n",
    "    \n",
    "    recommendations_list = []\n",
    "    for player in tqdm(players):\n",
    "        for k in range(5,30,1):\n",
    "            distances, indices = model_knn.kneighbors(interaction_table.loc[player,:].values.reshape(1,-1), n_neighbors = k)\n",
    "\n",
    "            players = []\n",
    "            distance = []\n",
    "            \n",
    "            for i in range(0, len(distances.flatten())):\n",
    "                if i != 0:\n",
    "                    players.append(interaction_table.index[indices.flatten()[i]])\n",
    "                    distance.append(distances.flatten()[i])    \n",
    "        \n",
    "            m=pd.Series(players,name=player_var)\n",
    "            d=pd.Series(distance,name='distance')\n",
    "            recommend = pd.concat([m,d], axis=1)\n",
    "            recommend = recommend.sort_values('distance',ascending=False)\n",
    "            \n",
    "            playerOpeningsUsed = playerOpenings[playerOpenings[player_var]==player][opening_var].tolist()\n",
    "            \n",
    "            similarPlayers = recommend[player_var].tolist()\n",
    "            similarPlayersOpenings =  playerOpenings[playerOpenings[player_var].isin(similarPlayers)][[player_var, opening_var]]\n",
    "            similarPlayersOpenings = similarPlayersOpenings[~similarPlayersOpenings[opening_var].isin(playerOpeningsUsed)].drop_duplicates(opening_var)\n",
    "            \n",
    "            if len(similarPlayersOpenings[opening_var]) <nrecs:\n",
    "                continue \n",
    "            else:\n",
    "                similarPlayersOpenings = similarPlayersOpenings.merge(openingAnalysis, on=opening_var, how='left')\n",
    "                similarPlayersOpenings =similarPlayersOpenings.sort_values(ranking_var, ascending=False)\n",
    "                recommendedOpenings = similarPlayersOpenings.nlargest(nrecs, ranking_var)[opening_var].tolist()\n",
    "                recommendations_list.append([player, recommendedOpenings])\n",
    "                break\n",
    "            \n",
    "    recommendations_df = pd.DataFrame(recommendations_list, columns=[player_var, 'Recommendations'])\n",
    "    return recommendations_df"
   ]
  },
  {
   "cell_type": "markdown",
   "id": "0d46febc-fbe5-4f15-832d-cc070b412ba2",
   "metadata": {},
   "source": [
    "Section 1\n",
    "\n",
    "Final Pre-Processing\n"
   ]
  },
  {
   "cell_type": "code",
   "execution_count": null,
   "id": "17e0cfcb-6b92-4e64-93a2-39bfe090ece7",
   "metadata": {},
   "outputs": [],
   "source": [
    "openingVariable = 'Opening'\n",
    "\n",
    "openingsList = games_exploration['Opening'].unique()\n",
    "playersList = games_exploration['openingPlayer'].unique()\n",
    "keepCols = ['openingPlayer',openingVariable, 'Moves', 'halfMoveCount', 'openingPlayerRating', 'white_black', 'ELO']\n",
    "games_exploration=games_exploration[keepCols]"
   ]
  },
  {
   "cell_type": "code",
   "execution_count": null,
   "id": "da759407-1ec5-4640-94bc-8591254556df",
   "metadata": {},
   "outputs": [],
   "source": [
    "#Define Clusters for Model Use, Remove overlap of rating based on medians\n",
    "playerOpeningsClusters = playerOpeningsClusters[playerOpeningsClusters['openingPlayer'].isin(playersList)]\n",
    "playerOpeningsClusters = playerOpeningsClusters.sort_values(['ELO'])"
   ]
  },
  {
   "cell_type": "code",
   "execution_count": null,
   "id": "ab90370d-98b8-45e3-afee-401dd8d8f0fb",
   "metadata": {},
   "outputs": [],
   "source": [
    "openingAnalysis = openingAnalysis[openingAnalysis['Opening'].isin(openingsList)]\n",
    "openingAnalysis['successRatio'] = openingAnalysis['whiteWin']/openingAnalysis['timesPlayed']"
   ]
  },
  {
   "cell_type": "code",
   "execution_count": null,
   "id": "aef8d3f0-df9e-4f4e-91a8-8d68c9b20599",
   "metadata": {},
   "outputs": [],
   "source": [
    "rds = games_exploration.merge(playerOpeningsClusters[['openingPlayer', 'Cluster_openings']], on='openingPlayer', how='left' )"
   ]
  },
  {
   "cell_type": "code",
   "execution_count": null,
   "id": "f072e07d-b735-45ac-a2ea-d104152c186f",
   "metadata": {},
   "outputs": [],
   "source": [
    "#Get white and black moves and number of moves in opening\n",
    "rds['whiteMoves'] = rds['Moves'].apply(lambda text: ' '.join(text.split()[1::3]))\n",
    "rds['blackMoves'] = rds['Moves'].apply(lambda text: ' '.join(text.split()[2::3]))\n",
    "\n",
    "rds['openingMovesWhite'] = ((rds['halfMoveCount']+1)/2).astype(int)\n",
    "rds['openingMovesBlack'] = ((rds['halfMoveCount']-1)/2).astype(int)"
   ]
  },
  {
   "cell_type": "code",
   "execution_count": null,
   "id": "2f016c7f-f281-4475-afe8-c6b77129c2f8",
   "metadata": {},
   "outputs": [],
   "source": [
    "#Get behavior data and join\n",
    "whiteBehavior20 = pd.json_normalize(rds.apply(lambda row: extract_features(row['whiteMoves'], row['openingMovesWhite'], 20), axis=1)).add_suffix(\"_20\").fillna(0)\n",
    "behaviorColumns = whiteBehavior20.columns.tolist()\n",
    "rds = rds.join(whiteBehavior20)"
   ]
  },
  {
   "cell_type": "code",
   "execution_count": null,
   "id": "eaca2671-7d0c-4590-b80d-ee9b9aebdfff",
   "metadata": {},
   "outputs": [],
   "source": [
    "matrixCols = behaviorColumns.copy()  \n",
    "matrixCols.append('openingWinProbability')"
   ]
  },
  {
   "cell_type": "code",
   "execution_count": null,
   "id": "b50ed436-fe35-4006-ad92-b4daa1251724",
   "metadata": {},
   "outputs": [],
   "source": [
    "#Create player/opening aggregated dataset\n",
    "rds_agg = rds.groupby(['openingPlayer', openingVariable])[behaviorColumns].mean().reset_index()\n",
    "rds_agg = rds_agg.merge(playerOpenings[['openingPlayer', openingVariable, 'openingWinProbability']], on=['openingPlayer', openingVariable], how='left')\n",
    "rds_agg = rds_agg.merge(playerOpeningsClusters[['openingPlayer', 'Cluster_openings']], on=['openingPlayer'], how='left').fillna(0)"
   ]
  },
  {
   "cell_type": "code",
   "execution_count": null,
   "id": "07014c96-9ad5-4278-bd36-4d2c597c2555",
   "metadata": {},
   "outputs": [],
   "source": [
    "#Create player aggregated dataset\n",
    "rds_player_agg = rds.groupby(['openingPlayer'])[behaviorColumns].mean().reset_index()\n",
    "rds_player_agg = rds_player_agg.merge(playerOpeningsClusters[['openingPlayer', 'Cluster_openings']], on=['openingPlayer'], how='left').fillna(0)"
   ]
  },
  {
   "cell_type": "code",
   "execution_count": null,
   "id": "940650b6-2df0-4df7-a5e4-7716ef8d76ed",
   "metadata": {},
   "outputs": [],
   "source": [
    "#Create scaled datasets for models\n",
    "scaler = MinMaxScaler()\n",
    "rds_player_agg_scaled=pd.DataFrame()\n",
    "rds_player_agg_scaled = scaler.fit_transform(rds_player_agg[behaviorColumns])\n",
    "rds_player_agg_scaled = pd.DataFrame(rds_player_agg_scaled, columns = behaviorColumns)\n",
    "rds_player_agg_scaled = rds_player_agg_scaled.join(rds_player_agg[['openingPlayer', 'Cluster_openings']])"
   ]
  },
  {
   "cell_type": "code",
   "execution_count": null,
   "id": "3ef012f2-b089-4a7b-985d-16998f47b17c",
   "metadata": {},
   "outputs": [],
   "source": [
    "scaler = MinMaxScaler()\n",
    "rds_agg_scaled=pd.DataFrame()\n",
    "rds_agg_scaled = scaler.fit_transform(rds_agg[matrixCols])\n",
    "rds_agg_scaled = pd.DataFrame(rds_agg_scaled, columns = matrixCols)\n",
    "rds_agg_scaled = rds_agg_scaled.join(rds_agg[['openingPlayer', 'Opening', 'Cluster_openings']])"
   ]
  },
  {
   "cell_type": "code",
   "execution_count": null,
   "id": "80ff7112-eddb-452a-9c49-b0ef8a80e8ce",
   "metadata": {},
   "outputs": [],
   "source": [
    "player_behaviour_agg = rds.groupby(['openingPlayer'])[behaviorColumns].median().reset_index()\n",
    "opening_behaviour_agg = rds.groupby(['openingPlayer'])[behaviorColumns].median().reset_index()"
   ]
  },
  {
   "cell_type": "code",
   "execution_count": null,
   "id": "f77748a9-3afd-4eb8-ae11-0695f0d9d11f",
   "metadata": {},
   "outputs": [],
   "source": [
    "playerOpeningCombinations = playerOpenings[['openingPlayer', 'Opening']]"
   ]
  },
  {
   "cell_type": "markdown",
   "id": "38ea9afd-3dd0-491d-9544-4f6a9c5bfd0d",
   "metadata": {},
   "source": [
    "Section 2\n",
    "\n",
    "Examine Engine Evaluation"
   ]
  },
  {
   "cell_type": "code",
   "execution_count": null,
   "id": "feb30349-0378-4389-8dda-3c1eb8f452fd",
   "metadata": {},
   "outputs": [],
   "source": [
    "engineAnalysis = engineAnalysis.join(pd.DataFrame(engineAnalysis['SF_eval'].apply(ast.literal_eval).values.tolist()).add_prefix('eval')).drop(columns={'SF_eval'})\n",
    "engineAnalysis = engineAnalysis.join(pd.DataFrame(engineAnalysis['SF_seldepth'].apply(ast.literal_eval).values.tolist()).add_prefix('seldepth')).drop(columns={'SF_seldepth'})"
   ]
  },
  {
   "cell_type": "code",
   "execution_count": null,
   "id": "c5958f07-0825-42dc-a2ab-d7b3375d3d2e",
   "metadata": {},
   "outputs": [],
   "source": [
    "selectedCols = [col for col in engineAnalysis.columns if 'eval' in col]\n",
    "engineSummary = engineAnalysis.groupby('Opening')[selectedCols].describe()\n",
    "engineSummary.columns = [' '.join(col).strip() for col in engineSummary.columns.values]\n",
    "medianCols = [col for col in engineSummary.columns if '50%' in col]\n",
    "engineSummary = engineSummary[['eval0 50%','eval1 50%','eval2 50%','eval3 50%']].reset_index()"
   ]
  },
  {
   "cell_type": "code",
   "execution_count": null,
   "id": "cf39b394-0808-4c21-8320-827cdd4e55c2",
   "metadata": {},
   "outputs": [],
   "source": [
    "engineSummary = engineSummary.merge(openingAnalysis[['Opening','successRatio']], on='Opening', how='left').rename(columns={'eval0 50%':'Evaluation After Opening',\n",
    "                                                            'eval1 50%':'Evaluation After 5 Moves',\n",
    "                                                            'eval2 50%':'Evaluation After 10 Moves',\n",
    "                                                            'eval3 50%':'Evaluation After 15 Moves',\n",
    "                                                            'successRatio':'Win/Loss'\n",
    "                                                            })\n",
    "linearCols= ['Evaluation After Opening','Evaluation After 5 Moves','Evaluation After 10 Moves','Evaluation After 15 Moves']"
   ]
  },
  {
   "cell_type": "code",
   "execution_count": null,
   "id": "f01bd60a-819c-4c43-9309-112c820166f6",
   "metadata": {},
   "outputs": [],
   "source": [
    "analysisCols = ['Win/Loss']\n",
    "analysisCols.extend(linearCols)\n",
    "sns.pairplot(engineSummary[analysisCols])\n",
    "plt.show()"
   ]
  },
  {
   "cell_type": "code",
   "execution_count": null,
   "id": "9a3e8837-f686-4144-87eb-882fe415953e",
   "metadata": {},
   "outputs": [],
   "source": [
    "# Create a correlation matrix\n",
    "correlation_matrix = engineSummary[analysisCols].corr()"
   ]
  },
  {
   "cell_type": "code",
   "execution_count": null,
   "id": "09464777-62be-47c2-a495-ffe12c0adf00",
   "metadata": {},
   "outputs": [],
   "source": [
    "# Create a heatmap of the correlation matrix\n",
    "plt.figure(figsize=(8, 6), dpi=600)\n",
    "sns.heatmap(correlation_matrix, annot=True, cmap='mako_r', fmt=\".2f\")\n",
    "#plt.title('Correlation Heatmap')\n",
    "plt.show()"
   ]
  },
  {
   "cell_type": "code",
   "execution_count": null,
   "id": "0f3bd8f9-abfa-43c0-9cff-b6dad7e0b562",
   "metadata": {},
   "outputs": [],
   "source": [
    "usefulCols=['Opening', 'Evaluation After Opening','Evaluation After 5 Moves'] \n",
    "\n",
    "scaler = MinMaxScaler()\n",
    "engineSummary_scaled = scaler.fit_transform(engineSummary[linearCols])\n",
    "engineSummary_scaled = pd.DataFrame(engineSummary_scaled, columns = linearCols)\n",
    "engineSummary_scaled = engineSummary_scaled.join(engineSummary['Opening'])"
   ]
  },
  {
   "cell_type": "code",
   "execution_count": null,
   "id": "7f9cde7f-46a1-41a8-ac92-d1dda6191e38",
   "metadata": {},
   "outputs": [],
   "source": [
    "engineSummary_scaled_linear= engineSummary_scaled.merge(openingAnalysis, on='Opening', how='left').dropna()\n",
    "y = engineSummary_scaled_linear['Win/Loss']\n",
    "X = engineSummary[['Evaluation After Opening','Evaluation After 5 Moves','Evaluation After 10 Moves','Evaluation After 15 Moves']].dropna()"
   ]
  },
  {
   "cell_type": "code",
   "execution_count": null,
   "id": "d69416dd-5e71-4885-9eb6-92425e94afb8",
   "metadata": {},
   "outputs": [],
   "source": [
    "evalTestResults = []\n",
    "\n",
    "# Create a 2x2 grid of subplots for the results\n",
    "fig, axes = plt.subplots(2, 2, figsize=(16, 10), dpi=600)\n",
    "axes = axes.ravel()\n",
    "\n",
    "for i, eval_column in enumerate(X.columns):\n",
    "    X_train, X_test, y_train, y_test = train_test_split(X[[eval_column]], y, test_size=0.33, random_state=123)\n",
    "    \n",
    "    model = LinearRegression()\n",
    "    model.fit(X_train, y_train)\n",
    "    \n",
    "    y_pred = model.predict(X_test)\n",
    "    \n",
    "    mse = mean_squared_error(y_test, y_pred)\n",
    "    r2 = r2_score(y_test, y_pred)\n",
    "    \n",
    "    # Plot the results in the corresponding subplot\n",
    "    axes[i].scatter(X_test, y_test, color='blue', label='Actual', alpha=0.6, edgecolor='black', s=60)\n",
    "    axes[i].scatter(X_test, y_pred, color='red', label='Predicted', alpha=0.6, edgecolor='black', s=60)\n",
    "    axes[i].set_title(f'R-Squared: {r2:.3f}', fontsize=12)\n",
    "    #axes[i].set_ylim(0,1)\n",
    "    #axes[i].set_xlim(0,1)\n",
    "    axes[i].legend()\n",
    "    \n",
    "    # Set axis labels\n",
    "    axes[i].set_xlabel(eval_column, fontsize=10)\n",
    "    axes[i].set_ylabel('Win/Loss Ratio', fontsize=10)\n",
    "    \n",
    "    evalTestResults.append((eval_column, mse, r2))\n",
    "\n",
    "# Adjust subplot spacing and display the plot\n",
    "plt.tight_layout()\n",
    "plt.show()"
   ]
  },
  {
   "cell_type": "code",
   "execution_count": null,
   "id": "9c69162c-6d6a-4dd1-a667-aa8746f820be",
   "metadata": {},
   "outputs": [],
   "source": [
    "openingAnalysis = openingAnalysis.merge(engineSummary_scaled[usefulCols], on='Opening', how='left')\n",
    "openingAnalysis[['Evaluation After Opening','Evaluation After 5 Moves']]=openingAnalysis[[ 'Evaluation After Opening','Evaluation After 5 Moves']].fillna(0)"
   ]
  },
  {
   "cell_type": "markdown",
   "id": "d105f8af-0b57-4330-8ee7-4068c4a00b8d",
   "metadata": {},
   "source": [
    "Section 2\n",
    "\n",
    "Multi-Feature Behavior Model - Regression\n"
   ]
  },
  {
   "cell_type": "code",
   "execution_count": null,
   "id": "3aa1f307-fd36-45fb-9e08-40408394c6a3",
   "metadata": {},
   "outputs": [],
   "source": [
    "from sklearn.ensemble import RandomForestRegressor\n",
    "from sklearn.tree import DecisionTreeRegressor\n",
    "from sklearn.metrics import mean_squared_error, r2_score\n",
    "from xgboost import XGBRegressor"
   ]
  },
  {
   "cell_type": "code",
   "execution_count": null,
   "id": "04e2e4d4-2ed8-43cd-86fa-6d215ad32ece",
   "metadata": {},
   "outputs": [],
   "source": [
    "X_train, X_test, y_train, y_test = train_test_split(rds_agg_scaled[behaviorColumns], rds_agg_scaled['openingWinProbability'], test_size=0.33, random_state=123)\n",
    "\n",
    "X_train.columns = behaviorColumns\n",
    "X_test.columns = behaviorColumns\n",
    "\n",
    "models = [\n",
    "    ('Linear Regression', LinearRegression()),\n",
    "    ('Lasso Regression', Lasso()),\n",
    "    ('Random Forest Regression', RandomForestRegressor()),\n",
    "    ('Decision Tree Regression', DecisionTreeRegressor()),\n",
    "    ('XGBoost Regressor', XGBRegressor()),\n",
    "]"
   ]
  },
  {
   "cell_type": "code",
   "execution_count": null,
   "id": "56124162-d32f-491c-a6f5-03de2bced9fa",
   "metadata": {},
   "outputs": [],
   "source": [
    "# Train and evaluate each regression model\n",
    "modelTestResults = []\n",
    "\n",
    "for model_name, model in models:\n",
    "    # Train the model\n",
    "    model.fit(X_train, y_train)\n",
    "    \n",
    "    # Make predictions on the test set\n",
    "    y_pred = model.predict(X_test)\n",
    "    \n",
    "    # Calculate evaluation metrics\n",
    "    mse = mean_squared_error(y_test, y_pred)\n",
    "    r2 = r2_score(y_test, y_pred)\n",
    "    \n",
    "    modelTestResults.append((model_name, mse, r2))"
   ]
  },
  {
   "cell_type": "code",
   "execution_count": null,
   "id": "77bd1174-b09d-4aad-bacf-5eb822064542",
   "metadata": {},
   "outputs": [],
   "source": [
    "pd.DataFrame(modelTestResults).to_csv(rf\"{csvFolder}\\modelTestResults.tsv\", sep='\\t')"
   ]
  },
  {
   "cell_type": "markdown",
   "id": "9297d55c-391c-47b7-a284-1ffb1718d92d",
   "metadata": {},
   "source": [
    "Section 3\n",
    "\n",
    "Multi-Feature Behavior Model - Euclidean Distance\n"
   ]
  },
  {
   "cell_type": "code",
   "execution_count": null,
   "id": "e406c48c-1319-448e-a784-a01cbe4e4df4",
   "metadata": {},
   "outputs": [],
   "source": [
    "from sklearn.neighbors import NearestNeighbors\n",
    "from tqdm import tqdm"
   ]
  },
  {
   "cell_type": "markdown",
   "id": "3e2c7c9f-e143-4cf5-8071-d92d2b4db4ce",
   "metadata": {},
   "source": [
    "\n",
    "Combinations:\n",
    "\n",
    "Cluster, Behavior, winProbability, eval0 50%, eval1 50%\n"
   ]
  },
  {
   "cell_type": "code",
   "execution_count": null,
   "id": "a01d7092-4cca-4b73-a363-a5d3e6337e7d",
   "metadata": {},
   "outputs": [],
   "source": [
    "#Eval based\n",
    "po_df = rds_agg_scaled\n",
    "po_players = po_df['openingPlayer'].unique().tolist()\n",
    "po_winProb_inter_table = po_df.pivot_table(index = [\"openingPlayer\"], columns='Opening', values = 'openingWinProbability').fillna(0)\n",
    "\n",
    "rec_po_sr_df = knn_recommender_multi(po_winProb_inter_table\n",
    "                               , po_players\n",
    "                               , 'Opening'\n",
    "                               , 'openingPlayer'\n",
    "                               , 'successRatio'\n",
    "                               , po_winProb_inter_table\n",
    "                               , playerOpeningCombinations\n",
    "                               ,10\n",
    "                               )\n",
    "rec_po_sr_df.to_csv(rf\"{csvFolder}\\rec_po_sr_df.tsv\", sep='\\t')\n",
    "\n",
    "rec_po_sr_df = pd.read_csv(rf\"{csvFolder}\\rec_po_sr_df.tsv\", sep='\\t', index_col=[0])\n",
    "rec_po_sr_df['Recommendations'] = rec_po_sr_df['Recommendations'].apply(lambda x: ast.literal_eval(x))"
   ]
  },
  {
   "cell_type": "code",
   "execution_count": null,
   "id": "090e34ef-50b9-4735-aa53-c9a6d04b4801",
   "metadata": {},
   "outputs": [],
   "source": [
    "rec_eval0_sr_df = knn_recommender_multi(po_winProb_inter_table\n",
    "                               , po_players\n",
    "                               , 'Opening'\n",
    "                               , 'openingPlayer'\n",
    "                               , 'Evaluation After Opening'\n",
    "                               , po_winProb_inter_table\n",
    "                               , playerOpeningCombinations\n",
    "                               ,10\n",
    "                               )\n",
    "rec_eval0_sr_df.to_csv(rf\"{csvFolder}\\rec_eval0_sr_df.tsv\", sep='\\t')\n",
    "\n",
    "rec_eval0_sr_df = pd.read_csv(rf\"{csvFolder}\\rec_eval0_sr_df.tsv\", sep='\\t', index_col=[0])\n",
    "rec_eval0_sr_df['Recommendations'] = rec_eval0_sr_df['Recommendations'].apply(lambda x: ast.literal_eval(x))"
   ]
  },
  {
   "cell_type": "code",
   "execution_count": null,
   "id": "840b3e7a-4feb-4c1f-b341-62b820149616",
   "metadata": {},
   "outputs": [],
   "source": [
    "rec_eval1_sr_df = knn_recommender_multi(po_winProb_inter_table\n",
    "                               , po_players\n",
    "                               , 'Opening'\n",
    "                               , 'openingPlayer'\n",
    "                               , 'Evaluation After 5 Moves'\n",
    "                               , po_winProb_inter_table\n",
    "                               , playerOpeningCombinations\n",
    "                               ,10\n",
    "                               )\n",
    "rec_eval1_sr_df.to_csv(rf\"{csvFolder}\\rec_eval1_sr_df.tsv\", sep='\\t')\n",
    "\n",
    "rec_eval1_sr_df = pd.read_csv(rf\"{csvFolder}\\rec_eval1_sr_df.tsv\", sep='\\t', index_col=[0])\n",
    "rec_eval1_sr_df['Recommendations'] = rec_eval1_sr_df['Recommendations'].apply(lambda x: ast.literal_eval(x))"
   ]
  },
  {
   "cell_type": "code",
   "execution_count": null,
   "id": "6779c151-6125-4293-8f0f-67380748594a",
   "metadata": {},
   "outputs": [],
   "source": [
    "#Behaviour Based\n",
    "p_df = rds_player_agg_scaled\n",
    "p_players = p_df['openingPlayer'].unique().tolist()\n",
    "p_beh_inter_table = p_df.pivot_table(index = [\"openingPlayer\"], values = behaviorColumns).fillna(0)\n",
    "rec_beh_sr_df = knn_recommender_multi(p_df\n",
    "                               , p_players\n",
    "                               , 'Opening'\n",
    "                               , 'openingPlayer'\n",
    "                               , 'successRatio'\n",
    "                               , p_beh_inter_table\n",
    "                               , playerOpeningCombinations\n",
    "                               ,10\n",
    "                               )\n",
    "rec_beh_sr_df.to_csv(rf\"{csvFolder}\\rec_beh_sr_df.tsv\", sep='\\t')\n",
    "\n",
    "rec_beh_sr_df = pd.read_csv(rf\"{csvFolder}\\rec_beh_sr_df.tsv\", sep='\\t', index_col=[0])\n",
    "rec_beh_sr_df['Recommendations'] = rec_beh_sr_df['Recommendations'].apply(lambda x: ast.literal_eval(x))"
   ]
  },
  {
   "cell_type": "code",
   "execution_count": null,
   "id": "6da2f981-dca1-402b-8057-693a41737cd8",
   "metadata": {},
   "outputs": [],
   "source": [
    "#Cluster Behavior\n",
    "clusters =[0, 1, 2]"
   ]
  },
  {
   "cell_type": "code",
   "execution_count": null,
   "id": "aa3b1a65-aeda-41a3-96ca-ad3ce45c8f13",
   "metadata": {},
   "outputs": [],
   "source": [
    "recommendation_cluster_behavior_df = pd.DataFrame()\n",
    "for i in clusters:\n",
    "    \n",
    "    cluster_df = rds_player_agg_scaled[rds_player_agg_scaled['Cluster_openings']==i].reset_index(drop=True)\n",
    "    cluster_players = cluster_df['openingPlayer'].unique().tolist()\n",
    "    inter_table_clust_beh = cluster_df.pivot_table(index = [\"openingPlayer\"], values = behaviorColumns).fillna(0)\n",
    "    rec_df = knn_recommender_multi(cluster_df\n",
    "                                   , cluster_players\n",
    "                                   , 'Opening'\n",
    "                                   , 'openingPlayer'\n",
    "                                   , 'successRatio'\n",
    "                                   , inter_table_clust_beh\n",
    "                                   , playerOpeningCombinations\n",
    "                                   ,10\n",
    "                                   )\n",
    "    rec_df['cluster'] = i\n",
    "    recommendation_cluster_behavior_df = pd.concat([recommendation_cluster_behavior_df,rec_df])\n",
    "\n",
    "recommendation_cluster_behavior_df.to_csv(rf\"{csvFolder}\\rec_clust_behav.tsv\", sep='\\t')\n",
    "\n",
    "recommendation_cluster_behavior_df = pd.read_csv(rf\"{csvFolder}\\rec_clust_behav.tsv\", sep='\\t', index_col=[0])\n",
    "recommendation_cluster_behavior_df['Recommendations'] = recommendation_cluster_behavior_df['Recommendations'].apply(lambda x: ast.literal_eval(x))"
   ]
  },
  {
   "cell_type": "code",
   "execution_count": null,
   "id": "55693ba8-3f92-45f2-b658-63ca1d9280b7",
   "metadata": {},
   "outputs": [],
   "source": [
    "recommendation_cluster_sr_df = pd.DataFrame()\n",
    "for i in clusters:\n",
    "    \n",
    "    cluster_df1 = rds_agg_scaled[rds_agg_scaled['Cluster_openings']==i].reset_index(drop=True)\n",
    "    cluster_players1 = cluster_df1['openingPlayer'].unique().tolist()\n",
    "    inter_table_clust_sr = cluster_df1.pivot_table(index = [\"openingPlayer\"], columns='Opening', values = 'openingWinProbability').fillna(0)\n",
    "    rec_sr_df = knn_recommender_multi(cluster_df1\n",
    "                                   , cluster_players1\n",
    "                                   , 'Opening'\n",
    "                                   , 'openingPlayer'\n",
    "                                   , 'successRatio'\n",
    "                                   , inter_table_clust_sr\n",
    "                                   , playerOpeningCombinations\n",
    "                                   ,10\n",
    "                                   )\n",
    "    rec_sr_df['cluster'] = i\n",
    "    recommendation_cluster_sr_df = pd.concat([recommendation_cluster_sr_df,rec_sr_df])\n",
    "recommendation_cluster_sr_df.to_csv(rf\"{csvFolder}\\rec_clust_sr.tsv\", sep='\\t')\n",
    "\n",
    "recommendation_cluster_sr_df = pd.read_csv(rf\"{csvFolder}\\rec_clust_sr.tsv\", sep='\\t', index_col=[0])\n",
    "recommendation_cluster_sr_df['Recommendations'] = recommendation_cluster_sr_df['Recommendations'].apply(lambda x: ast.literal_eval(x))"
   ]
  },
  {
   "cell_type": "code",
   "execution_count": null,
   "id": "3fbef7ed-ea68-4c56-b7fa-2d5f20fc2c7e",
   "metadata": {},
   "outputs": [],
   "source": [
    "combinedRecommendations = pd.DataFrame(playersList, columns={'openingPlayer'}).merge(\n",
    "                                        rec_po_sr_df   , on='openingPlayer', how ='left', suffixes=('', '_wr')).merge(                \n",
    "                                        rec_eval0_sr_df, on='openingPlayer', how ='left', suffixes=('', '_eval0')).merge(                                        \n",
    "                                        rec_eval1_sr_df   , on='openingPlayer', how ='left',suffixes=('', '_eval1')).merge(                                        \n",
    "                                        rec_beh_sr_df   , on='openingPlayer', how ='left',suffixes=('', '_beh')).merge(                                        \n",
    "                                        recommendation_cluster_sr_df.drop(columns=('cluster'))   , on='openingPlayer', how ='left',suffixes=('', '_clust_wr')).merge(                                        \n",
    "                                        recommendation_cluster_behavior_df.drop(columns=('cluster'))    , on='openingPlayer', how ='left',suffixes=('', '_clust_beh'))"
   ]
  },
  {
   "cell_type": "code",
   "execution_count": null,
   "id": "0f8ceb3c-eaf2-448c-9fc1-c9ede36796d4",
   "metadata": {},
   "outputs": [],
   "source": [
    "from difflib import SequenceMatcher\n",
    "        \n",
    "combinedRecommendations =combinedRecommendations.dropna()\n",
    "combinedRecommendations = combinedRecommendations.drop(columns=['openingPlayer']).reset_index(drop=True)\n",
    "combinedRecommendations = combinedRecommendations.rename(columns={\n",
    "    'Recommendations':'Win/Loss',\n",
    "    'Recommendations_eval0':'Opening Evaluation',\n",
    "    'Recommendations_eval1':'Opening Move 5 Evaluation',\n",
    "    'Recommendations_beh':'Player Behaviour',\n",
    "    'Recommendations_clust_wr':'Clustered Win/Loss',\n",
    "    'Recommendations_clust_beh':'Clustered Player Behaviour'})"
   ]
  },
  {
   "cell_type": "code",
   "execution_count": null,
   "id": "f9a0010c-b50d-4182-ad32-cf79f35ecef2",
   "metadata": {},
   "outputs": [],
   "source": [
    "# Define a function to calculate Jaccard similarity\n",
    "def jaccard_similarity(list1, list2):\n",
    "    s1 = set(list1)\n",
    "    s2 = set(list2)\n",
    "    return len(s1.intersection(s2)) / len(s1.union(s2))"
   ]
  },
  {
   "cell_type": "code",
   "execution_count": null,
   "id": "8621aefa-d56e-4bef-9624-cfe7e365ae11",
   "metadata": {},
   "outputs": [],
   "source": [
    "# Define a function to calculate Sequence similarity\n",
    "def sequence_similarity(list1, list2):\n",
    "    s1 = list1\n",
    "    s2 = list2\n",
    "    return SequenceMatcher(None, s1, s2).ratio()"
   ]
  },
  {
   "cell_type": "code",
   "execution_count": null,
   "id": "d4712247-d1a0-4467-a5cc-a2a90d63f483",
   "metadata": {},
   "outputs": [],
   "source": [
    "# Calculate Jaccard/Sequence similarities and create a DataFrame\n",
    "jaccard_similarities = pd.DataFrame(index=combinedRecommendations.columns, columns=combinedRecommendations.columns)\n",
    "sequence_similarities = pd.DataFrame(index=combinedRecommendations.columns, columns=combinedRecommendations.columns)"
   ]
  },
  {
   "cell_type": "code",
   "execution_count": null,
   "id": "bc13790c-eb96-4091-a7f0-9366f67cc323",
   "metadata": {},
   "outputs": [],
   "source": [
    "for col1 in combinedRecommendations.columns:\n",
    "    for col2 in combinedRecommendations.columns:\n",
    "        j_similarities = []\n",
    "        s_similarities = []\n",
    "        for i in range(len(combinedRecommendations)):\n",
    "            j_similarities.append(jaccard_similarity(combinedRecommendations[col1][i], combinedRecommendations[col2][i]))\n",
    "            s_similarities.append(sequence_similarity(combinedRecommendations[col1][i], combinedRecommendations[col2][i]))\n",
    "        jaccard_similarities.loc[col1, col2] = np.mean(j_similarities)\n",
    "        sequence_similarities.loc[col1, col2] = np.mean(s_similarities)"
   ]
  },
  {
   "cell_type": "code",
   "execution_count": null,
   "id": "2cf6fc99-ae5d-40f1-944b-b4d74d1a2bac",
   "metadata": {},
   "outputs": [],
   "source": [
    "# Convert to float type\n",
    "jaccard_similarities = jaccard_similarities.astype(float)\n",
    "sequence_similarities = sequence_similarities.astype(float)"
   ]
  },
  {
   "cell_type": "code",
   "execution_count": null,
   "id": "792b7a1f-ab37-4e47-88ec-500161ac4137",
   "metadata": {},
   "outputs": [],
   "source": [
    "# Create a heatmap for Jaccard similarities\n",
    "plt.figure(figsize=(8, 6), dpi=600)\n",
    "sns.heatmap(jaccard_similarities, annot=True, cmap='mako_r', fmt=\".2f\")\n",
    "plt.savefig(rf\"{outputFolder}\\jaccardHeat.png\", bbox_inches=\"tight\")\n",
    "plt.show()"
   ]
  },
  {
   "cell_type": "code",
   "execution_count": null,
   "id": "f38dad05-fec6-494c-889a-74ca79e140c9",
   "metadata": {},
   "outputs": [],
   "source": [
    "# Create a heatmap for Sequence similarities\n",
    "plt.figure(figsize=(8, 6), dpi=600)\n",
    "sns.heatmap(sequence_similarities, annot=True, cmap='mako_r', fmt=\".2f\")\n",
    "plt.savefig(rf\"{outputFolder}\\sequenceHeat.png\", bbox_inches=\"tight\")\n",
    "plt.show()"
   ]
  }
 ],
 "metadata": {
  "kernelspec": {
   "display_name": "Python 3 (ipykernel)",
   "language": "python",
   "name": "python3"
  },
  "language_info": {
   "codemirror_mode": {
    "name": "ipython",
    "version": 3
   },
   "file_extension": ".py",
   "mimetype": "text/x-python",
   "name": "python",
   "nbconvert_exporter": "python",
   "pygments_lexer": "ipython3",
   "version": "3.9.13"
  }
 },
 "nbformat": 4,
 "nbformat_minor": 5
}
